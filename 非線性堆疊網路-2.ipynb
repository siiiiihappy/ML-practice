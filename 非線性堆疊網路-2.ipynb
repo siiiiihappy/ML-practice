{
 "cells": [
  {
   "cell_type": "code",
   "execution_count": 1,
   "metadata": {},
   "outputs": [
    {
     "name": "stdout",
     "output_type": "stream",
     "text": [
      "env: KERAS_BACKEND=tensorflow\n"
     ]
    }
   ],
   "source": [
    "%env KERAS_BACKEND=tensorflow "
   ]
  },
  {
   "cell_type": "code",
   "execution_count": 2,
   "metadata": {},
   "outputs": [],
   "source": [
    "%matplotlib inline\n",
    "import numpy as np\n",
    "import matplotlib.pyplot as plt"
   ]
  },
  {
   "cell_type": "code",
   "execution_count": 3,
   "metadata": {},
   "outputs": [
    {
     "name": "stderr",
     "output_type": "stream",
     "text": [
      "Using TensorFlow backend.\n",
      "C:\\Users\\USER\\anaconda3\\lib\\site-packages\\tensorflow\\python\\framework\\dtypes.py:516: FutureWarning: Passing (type, 1) or '1type' as a synonym of type is deprecated; in a future version of numpy, it will be understood as (type, (1,)) / '(1,)type'.\n",
      "  _np_qint8 = np.dtype([(\"qint8\", np.int8, 1)])\n",
      "C:\\Users\\USER\\anaconda3\\lib\\site-packages\\tensorflow\\python\\framework\\dtypes.py:517: FutureWarning: Passing (type, 1) or '1type' as a synonym of type is deprecated; in a future version of numpy, it will be understood as (type, (1,)) / '(1,)type'.\n",
      "  _np_quint8 = np.dtype([(\"quint8\", np.uint8, 1)])\n",
      "C:\\Users\\USER\\anaconda3\\lib\\site-packages\\tensorflow\\python\\framework\\dtypes.py:518: FutureWarning: Passing (type, 1) or '1type' as a synonym of type is deprecated; in a future version of numpy, it will be understood as (type, (1,)) / '(1,)type'.\n",
      "  _np_qint16 = np.dtype([(\"qint16\", np.int16, 1)])\n",
      "C:\\Users\\USER\\anaconda3\\lib\\site-packages\\tensorflow\\python\\framework\\dtypes.py:519: FutureWarning: Passing (type, 1) or '1type' as a synonym of type is deprecated; in a future version of numpy, it will be understood as (type, (1,)) / '(1,)type'.\n",
      "  _np_quint16 = np.dtype([(\"quint16\", np.uint16, 1)])\n",
      "C:\\Users\\USER\\anaconda3\\lib\\site-packages\\tensorflow\\python\\framework\\dtypes.py:520: FutureWarning: Passing (type, 1) or '1type' as a synonym of type is deprecated; in a future version of numpy, it will be understood as (type, (1,)) / '(1,)type'.\n",
      "  _np_qint32 = np.dtype([(\"qint32\", np.int32, 1)])\n",
      "C:\\Users\\USER\\anaconda3\\lib\\site-packages\\tensorflow\\python\\framework\\dtypes.py:525: FutureWarning: Passing (type, 1) or '1type' as a synonym of type is deprecated; in a future version of numpy, it will be understood as (type, (1,)) / '(1,)type'.\n",
      "  np_resource = np.dtype([(\"resource\", np.ubyte, 1)])\n",
      "C:\\Users\\USER\\anaconda3\\lib\\site-packages\\tensorboard\\compat\\tensorflow_stub\\dtypes.py:541: FutureWarning: Passing (type, 1) or '1type' as a synonym of type is deprecated; in a future version of numpy, it will be understood as (type, (1,)) / '(1,)type'.\n",
      "  _np_qint8 = np.dtype([(\"qint8\", np.int8, 1)])\n",
      "C:\\Users\\USER\\anaconda3\\lib\\site-packages\\tensorboard\\compat\\tensorflow_stub\\dtypes.py:542: FutureWarning: Passing (type, 1) or '1type' as a synonym of type is deprecated; in a future version of numpy, it will be understood as (type, (1,)) / '(1,)type'.\n",
      "  _np_quint8 = np.dtype([(\"quint8\", np.uint8, 1)])\n",
      "C:\\Users\\USER\\anaconda3\\lib\\site-packages\\tensorboard\\compat\\tensorflow_stub\\dtypes.py:543: FutureWarning: Passing (type, 1) or '1type' as a synonym of type is deprecated; in a future version of numpy, it will be understood as (type, (1,)) / '(1,)type'.\n",
      "  _np_qint16 = np.dtype([(\"qint16\", np.int16, 1)])\n",
      "C:\\Users\\USER\\anaconda3\\lib\\site-packages\\tensorboard\\compat\\tensorflow_stub\\dtypes.py:544: FutureWarning: Passing (type, 1) or '1type' as a synonym of type is deprecated; in a future version of numpy, it will be understood as (type, (1,)) / '(1,)type'.\n",
      "  _np_quint16 = np.dtype([(\"quint16\", np.uint16, 1)])\n",
      "C:\\Users\\USER\\anaconda3\\lib\\site-packages\\tensorboard\\compat\\tensorflow_stub\\dtypes.py:545: FutureWarning: Passing (type, 1) or '1type' as a synonym of type is deprecated; in a future version of numpy, it will be understood as (type, (1,)) / '(1,)type'.\n",
      "  _np_qint32 = np.dtype([(\"qint32\", np.int32, 1)])\n",
      "C:\\Users\\USER\\anaconda3\\lib\\site-packages\\tensorboard\\compat\\tensorflow_stub\\dtypes.py:550: FutureWarning: Passing (type, 1) or '1type' as a synonym of type is deprecated; in a future version of numpy, it will be understood as (type, (1,)) / '(1,)type'.\n",
      "  np_resource = np.dtype([(\"resource\", np.ubyte, 1)])\n"
     ]
    }
   ],
   "source": [
    "# Keras functions\n",
    "from keras.models import Sequential, Model\n",
    "from keras.layers import Dense, Activation, Input\n",
    "from keras.optimizers import SGD\n",
    "\n",
    "# Keras dataset\n",
    "from keras.datasets import mnist\n",
    "\n",
    "# Keras utilis function\n",
    "from keras.utils import np_utils"
   ]
  },
  {
   "cell_type": "code",
   "execution_count": 4,
   "metadata": {},
   "outputs": [],
   "source": [
    "(x_train, y_train), (x_test, y_test) = mnist.load_data()"
   ]
  },
  {
   "cell_type": "code",
   "execution_count": 5,
   "metadata": {},
   "outputs": [],
   "source": [
    "x_train = x_train.reshape(60000, 784)\n",
    "x_test = x_test.reshape(10000, 784)"
   ]
  },
  {
   "cell_type": "code",
   "execution_count": 6,
   "metadata": {},
   "outputs": [
    {
     "name": "stdout",
     "output_type": "stream",
     "text": [
      "(60000, 784) (10000, 784)\n"
     ]
    }
   ],
   "source": [
    "print(x_train.shape, x_test.shape)"
   ]
  },
  {
   "cell_type": "code",
   "execution_count": 7,
   "metadata": {},
   "outputs": [],
   "source": [
    "y_train = np_utils.to_categorical(y_train, 10) #one-hot encoding\n",
    "y_test = np_utils.to_categorical(y_test, 10)"
   ]
  },
  {
   "cell_type": "markdown",
   "metadata": {},
   "source": [
    "**1.自定義的不具可訓練權重之神經網路層**\n",
    "\n",
    "自定義神經網路層 (不具可訓練權重-ex：取平均)\n",
    "\n",
    "具有可訓練重的自定義層牽扯到 TensorFlow 及 Python 類別的撰寫，可參考: https://keras.io/layers/writing-your-own-keras-layers/\n",
    "\n",
    "首先需要引入 Lambda 這個函數，透過 Lambda 函數，可以將 Python 上的 function，包裝成 Keras 上的 layer。\n",
    "\n",
    "此外，需要引進後端所使用的套件 (此處為 TensorFlow)，並使用裡面的運算進行 function 的撰寫。"
   ]
  },
  {
   "cell_type": "code",
   "execution_count": 8,
   "metadata": {},
   "outputs": [],
   "source": [
    "from keras.layers.core import Lambda\n",
    "from keras import backend as K #Keras 的「後端引擎」"
   ]
  },
  {
   "cell_type": "markdown",
   "metadata": {},
   "source": [
    "透過 backend 來定義一個簡單的 function，作用是對輸入取平均"
   ]
  },
  {
   "cell_type": "code",
   "execution_count": 14,
   "metadata": {},
   "outputs": [],
   "source": [
    "def average_function(inputs):\n",
    "    return K.mean(inputs, axis=1) #用Keras Backend對變數(tensor)求平均 , axis=1為平均方向"
   ]
  },
  {
   "cell_type": "code",
   "execution_count": 15,
   "metadata": {},
   "outputs": [
    {
     "ename": "AttributeError",
     "evalue": "'numpy.dtype' object has no attribute 'base_dtype'",
     "output_type": "error",
     "traceback": [
      "\u001b[1;31m---------------------------------------------------------------------------\u001b[0m",
      "\u001b[1;31mAttributeError\u001b[0m                            Traceback (most recent call last)",
      "\u001b[1;32m<ipython-input-15-686d4c675c43>\u001b[0m in \u001b[0;36m<module>\u001b[1;34m\u001b[0m\n\u001b[0;32m      1\u001b[0m \u001b[1;31m#將一個 numpy array 送進這個函式為錯誤\u001b[0m\u001b[1;33m\u001b[0m\u001b[1;33m\u001b[0m\u001b[1;33m\u001b[0m\u001b[0m\n\u001b[1;32m----> 2\u001b[1;33m \u001b[0maverage_function\u001b[0m\u001b[1;33m(\u001b[0m\u001b[0mnp\u001b[0m\u001b[1;33m.\u001b[0m\u001b[0marray\u001b[0m\u001b[1;33m(\u001b[0m\u001b[1;33m[\u001b[0m\u001b[1;36m1\u001b[0m\u001b[1;33m,\u001b[0m\u001b[1;36m3\u001b[0m\u001b[1;33m]\u001b[0m\u001b[1;33m)\u001b[0m\u001b[1;33m)\u001b[0m\u001b[1;33m\u001b[0m\u001b[1;33m\u001b[0m\u001b[0m\n\u001b[0m",
      "\u001b[1;32m<ipython-input-14-2e6d905c940f>\u001b[0m in \u001b[0;36maverage_function\u001b[1;34m(inputs)\u001b[0m\n\u001b[0;32m      1\u001b[0m \u001b[1;32mdef\u001b[0m \u001b[0maverage_function\u001b[0m\u001b[1;33m(\u001b[0m\u001b[0minputs\u001b[0m\u001b[1;33m)\u001b[0m\u001b[1;33m:\u001b[0m\u001b[1;33m\u001b[0m\u001b[1;33m\u001b[0m\u001b[0m\n\u001b[1;32m----> 2\u001b[1;33m     \u001b[1;32mreturn\u001b[0m \u001b[0mK\u001b[0m\u001b[1;33m.\u001b[0m\u001b[0mmean\u001b[0m\u001b[1;33m(\u001b[0m\u001b[0minputs\u001b[0m\u001b[1;33m,\u001b[0m \u001b[0maxis\u001b[0m\u001b[1;33m=\u001b[0m\u001b[1;36m1\u001b[0m\u001b[1;33m)\u001b[0m \u001b[1;31m#對變數(tensor)求平均\u001b[0m\u001b[1;33m\u001b[0m\u001b[1;33m\u001b[0m\u001b[0m\n\u001b[0m",
      "\u001b[1;32m~\\anaconda3\\lib\\site-packages\\keras\\backend\\tensorflow_backend.py\u001b[0m in \u001b[0;36mmean\u001b[1;34m(x, axis, keepdims)\u001b[0m\n\u001b[0;32m   1808\u001b[0m     \u001b[1;33m{\u001b[0m\u001b[1;33m{\u001b[0m\u001b[0mnp_implementation\u001b[0m\u001b[1;33m}\u001b[0m\u001b[1;33m}\u001b[0m\u001b[1;33m\u001b[0m\u001b[1;33m\u001b[0m\u001b[0m\n\u001b[0;32m   1809\u001b[0m     \"\"\"\n\u001b[1;32m-> 1810\u001b[1;33m     \u001b[1;32mif\u001b[0m \u001b[0mx\u001b[0m\u001b[1;33m.\u001b[0m\u001b[0mdtype\u001b[0m\u001b[1;33m.\u001b[0m\u001b[0mbase_dtype\u001b[0m \u001b[1;33m==\u001b[0m \u001b[0mtf\u001b[0m\u001b[1;33m.\u001b[0m\u001b[0mbool\u001b[0m\u001b[1;33m:\u001b[0m\u001b[1;33m\u001b[0m\u001b[1;33m\u001b[0m\u001b[0m\n\u001b[0m\u001b[0;32m   1811\u001b[0m         \u001b[0mx\u001b[0m \u001b[1;33m=\u001b[0m \u001b[0mtf\u001b[0m\u001b[1;33m.\u001b[0m\u001b[0mcast\u001b[0m\u001b[1;33m(\u001b[0m\u001b[0mx\u001b[0m\u001b[1;33m,\u001b[0m \u001b[0mfloatx\u001b[0m\u001b[1;33m(\u001b[0m\u001b[1;33m)\u001b[0m\u001b[1;33m)\u001b[0m\u001b[1;33m\u001b[0m\u001b[1;33m\u001b[0m\u001b[0m\n\u001b[0;32m   1812\u001b[0m     \u001b[1;32mreturn\u001b[0m \u001b[0mtf\u001b[0m\u001b[1;33m.\u001b[0m\u001b[0mreduce_mean\u001b[0m\u001b[1;33m(\u001b[0m\u001b[0mx\u001b[0m\u001b[1;33m,\u001b[0m \u001b[0maxis\u001b[0m\u001b[1;33m,\u001b[0m \u001b[0mkeepdims\u001b[0m\u001b[1;33m)\u001b[0m\u001b[1;33m\u001b[0m\u001b[1;33m\u001b[0m\u001b[0m\n",
      "\u001b[1;31mAttributeError\u001b[0m: 'numpy.dtype' object has no attribute 'base_dtype'"
     ]
    }
   ],
   "source": [
    "#將一個 numpy array 送進這個函式為錯誤\n",
    "average_function(np.array([1,3]))"
   ]
  },
  {
   "cell_type": "markdown",
   "metadata": {},
   "source": [
    "函式不接受 numpy array 的類型作為輸入，這是因為 TensorFlow 有自定義的類型。\n",
    "\n",
    "**需透過 Lambda ，將上述函式包裝成一個神經網路層。**"
   ]
  },
  {
   "cell_type": "code",
   "execution_count": 18,
   "metadata": {},
   "outputs": [],
   "source": [
    "average_layer = Lambda(average_function) #將運算包裝成layer，這邊可指定output shape"
   ]
  },
  {
   "cell_type": "code",
   "execution_count": 19,
   "metadata": {},
   "outputs": [
    {
     "name": "stdout",
     "output_type": "stream",
     "text": [
      "<keras.layers.core.Lambda object at 0x000001C5F4B06D08>\n"
     ]
    }
   ],
   "source": [
    "print(average_layer)"
   ]
  },
  {
   "cell_type": "markdown",
   "metadata": {},
   "source": [
    "建構出一個將指定長度的資料取平均的神經網路。"
   ]
  },
  {
   "cell_type": "code",
   "execution_count": 21,
   "metadata": {},
   "outputs": [],
   "source": [
    "inputSize = 4 #指定輸入長度為4維\n",
    "\n",
    "x = Input(shape=(inputSize,))\n",
    "y = average_layer(x)\n",
    "average_model = Model(x,y)"
   ]
  },
  {
   "cell_type": "code",
   "execution_count": 22,
   "metadata": {},
   "outputs": [
    {
     "name": "stdout",
     "output_type": "stream",
     "text": [
      "Model: \"model_1\"\n",
      "_________________________________________________________________\n",
      "Layer (type)                 Output Shape              Param #   \n",
      "=================================================================\n",
      "input_1 (InputLayer)         (None, 4)                 0         \n",
      "_________________________________________________________________\n",
      "lambda_2 (Lambda)            (None,)                   0         \n",
      "=================================================================\n",
      "Total params: 0\n",
      "Trainable params: 0\n",
      "Non-trainable params: 0\n",
      "_________________________________________________________________\n"
     ]
    }
   ],
   "source": [
    "average_model.summary() #無權重"
   ]
  },
  {
   "cell_type": "code",
   "execution_count": 25,
   "metadata": {},
   "outputs": [
    {
     "data": {
      "text/plain": [
       "(1, 4)"
      ]
     },
     "execution_count": 25,
     "metadata": {},
     "output_type": "execute_result"
    }
   ],
   "source": [
    "np.array([[1,2,3,4]]).shape #一筆4維的向量\n",
    "#在keras以batch為單位輸入(batch = 1)"
   ]
  },
  {
   "cell_type": "code",
   "execution_count": 26,
   "metadata": {},
   "outputs": [
    {
     "name": "stdout",
     "output_type": "stream",
     "text": [
      "WARNING:tensorflow:From C:\\Users\\USER\\anaconda3\\lib\\site-packages\\keras\\backend\\tensorflow_backend.py:422: The name tf.global_variables is deprecated. Please use tf.compat.v1.global_variables instead.\n",
      "\n"
     ]
    },
    {
     "data": {
      "text/plain": [
       "array([2.5], dtype=float32)"
      ]
     },
     "execution_count": 26,
     "metadata": {},
     "output_type": "execute_result"
    }
   ],
   "source": [
    "average_model.predict(np.array([[1,2,3,4]]))"
   ]
  },
  {
   "cell_type": "code",
   "execution_count": 27,
   "metadata": {},
   "outputs": [
    {
     "data": {
      "text/plain": [
       "array([2.5 , 4.25], dtype=float32)"
      ]
     },
     "execution_count": 27,
     "metadata": {},
     "output_type": "execute_result"
    }
   ],
   "source": [
    "average_model.predict(np.array([[1,2,3,4],\n",
    "                               [1,2,5,9]]))"
   ]
  },
  {
   "cell_type": "markdown",
   "metadata": {},
   "source": [
    "**2.具抽樣功能的神經網路層**\n",
    "\n",
    "輸入為 $(\\mu, s)$ ，$\\mu=(\\mu_1,\\cdots,\\mu_n)$ 和 $s=(s_1,\\cdots,s_n)$ 各自為 $n$ 維向量。\n",
    "\n",
    "神經網路層輸出為服從 $N(\\mu, e^{s}I_n)$ 的 $n$ 維向量，換言之，所建構的神經網路其實是一個抽樣函數。\n",
    "\n",
    "** 由於神經網路的輸入輸出經常沒有限制，為了讓 $s$ 具有變異數的非負特性，考慮 $e^{s}$ 作為變異數(非負數)；換言之，$s$ 為 log-variance。\n",
    "\n",
    "假設想進行抽樣的維度為 sampling_dim，則一個具抽樣函數功能的神經網路可由下述方式建構。"
   ]
  },
  {
   "cell_type": "code",
   "execution_count": 15,
   "metadata": {},
   "outputs": [],
   "source": [
    "sampling_dim = 2\n",
    "\n",
    "def sampling(args):\n",
    "    z_mean, z_log_var = args #輸入的向量變成mean和variance\n",
    "    epsilon = K.random_normal(shape=(sampling_dim,),mean=0., stddev=1) #二維的標準常態分配\n",
    "    return z_mean + K.exp(z_log_var / 2) * epsilon #如下公式，得出服從常態分配的值，除二是開根號意思"
   ]
  },
  {
   "cell_type": "markdown",
   "metadata": {},
   "source": [
    "這裡使用到常態分配的線性特性來定義函數，亦即\n",
    "\n",
    "$$X\\sim N(0, 1)\\Rightarrow \\mu+\\sigma X\\sim N(\\mu, \\sigma^2)$$"
   ]
  },
  {
   "cell_type": "code",
   "execution_count": 16,
   "metadata": {},
   "outputs": [],
   "source": [
    "#將運算包裝成layer，這邊希望兩個兩維進去，一個兩維出來\n",
    "sample_layer = Lambda(sampling, output_shape=(sampling_dim,))"
   ]
  },
  {
   "cell_type": "code",
   "execution_count": 17,
   "metadata": {},
   "outputs": [],
   "source": [
    "m = Input(shape=(sampling_dim,))\n",
    "s = Input(shape=(sampling_dim,))\n",
    "\n",
    "z = sample_layer([m,s]) #Lambda 可接受 list，比較像函式定義的東西，這邊的z是服從常態分配的值\n",
    "\n",
    "sample_model = Model([m,s] , z) #Model(x,y)"
   ]
  },
  {
   "cell_type": "code",
   "execution_count": 18,
   "metadata": {},
   "outputs": [
    {
     "name": "stdout",
     "output_type": "stream",
     "text": [
      "Model: \"model_1\"\n",
      "__________________________________________________________________________________________________\n",
      "Layer (type)                    Output Shape         Param #     Connected to                     \n",
      "==================================================================================================\n",
      "input_1 (InputLayer)            (None, 2)            0                                            \n",
      "__________________________________________________________________________________________________\n",
      "input_2 (InputLayer)            (None, 2)            0                                            \n",
      "__________________________________________________________________________________________________\n",
      "lambda_2 (Lambda)               (None, 2)            0           input_1[0][0]                    \n",
      "                                                                 input_2[0][0]                    \n",
      "==================================================================================================\n",
      "Total params: 0\n",
      "Trainable params: 0\n",
      "Non-trainable params: 0\n",
      "__________________________________________________________________________________________________\n"
     ]
    }
   ],
   "source": [
    "sample_model.summary()"
   ]
  },
  {
   "cell_type": "code",
   "execution_count": 40,
   "metadata": {},
   "outputs": [
    {
     "name": "stdout",
     "output_type": "stream",
     "text": [
      "平均為 (7, 5)\n"
     ]
    }
   ],
   "source": [
    "#隨機生成mean var\n",
    "test_mean = np.random.randint(10, size = sampling_dim).reshape(1,2)\n",
    "test_log_var = np.array([[0,0]]) #取epsilon變 1\n",
    "\n",
    "print('平均為 (%d, %d)' %(test_mean[0][0], test_mean[0][1]))"
   ]
  },
  {
   "cell_type": "markdown",
   "metadata": {},
   "source": [
    "透過下面的指令，每次可以抽樣出一服從上述要求常態分配之隨機向量"
   ]
  },
  {
   "cell_type": "code",
   "execution_count": 41,
   "metadata": {},
   "outputs": [
    {
     "data": {
      "text/plain": [
       "array([[9.203978 , 5.9510236]], dtype=float32)"
      ]
     },
     "execution_count": 41,
     "metadata": {},
     "output_type": "execute_result"
    }
   ],
   "source": [
    "sample_model.predict([test_mean, test_log_var])"
   ]
  },
  {
   "cell_type": "markdown",
   "metadata": {},
   "source": [
    "和 Numpy 上的抽樣函數進行比較"
   ]
  },
  {
   "cell_type": "code",
   "execution_count": 29,
   "metadata": {},
   "outputs": [],
   "source": [
    "num_of_samples = 100"
   ]
  },
  {
   "cell_type": "code",
   "execution_count": 30,
   "metadata": {},
   "outputs": [],
   "source": [
    "np_sample = np.random.multivariate_normal(test_mean[0], np.identity(2),\n",
    "                                          size = num_of_samples) #得到100個點"
   ]
  },
  {
   "cell_type": "code",
   "execution_count": 43,
   "metadata": {},
   "outputs": [
    {
     "data": {
      "text/plain": [
       "array([[ 3.30895419,  8.68270861],\n",
       "       [ 5.18679229, 10.84715094],\n",
       "       [ 3.7506866 , 10.10014645],\n",
       "       [ 3.81065712, 10.50917616],\n",
       "       [ 3.07652825,  8.92274666],\n",
       "       [ 4.22418775, 10.76595451],\n",
       "       [ 5.05000311,  7.80787424],\n",
       "       [ 3.0488507 ,  8.87904292],\n",
       "       [ 6.02612576,  8.45934205],\n",
       "       [ 3.60284234,  9.1162625 ],\n",
       "       [ 2.19235968,  8.86562778],\n",
       "       [ 4.35344905,  7.93694942],\n",
       "       [ 4.32922576, 10.16191056],\n",
       "       [ 5.91214204,  8.84661494],\n",
       "       [ 3.45965839,  8.49375681],\n",
       "       [ 4.16915475,  8.17277348],\n",
       "       [ 5.59127695, 10.16256918],\n",
       "       [ 5.0039162 ,  7.6641071 ],\n",
       "       [ 1.06717579,  9.06314757],\n",
       "       [ 3.42496556,  7.83297245],\n",
       "       [ 5.3621822 ,  7.38383523],\n",
       "       [ 3.78987345,  8.55932696],\n",
       "       [ 5.13512357,  7.68409893],\n",
       "       [ 5.12050871,  9.94695127],\n",
       "       [ 4.99509304,  9.35926542],\n",
       "       [ 4.15677958,  8.79711615],\n",
       "       [ 3.51582152,  9.65148389],\n",
       "       [ 2.44624318, 10.83841391],\n",
       "       [ 2.16345173,  7.24780661],\n",
       "       [ 4.32088251,  9.53726251],\n",
       "       [ 3.74767691,  8.41172217],\n",
       "       [ 3.65145651,  9.90714729],\n",
       "       [ 2.17356823,  9.07531709],\n",
       "       [ 3.52874027,  9.3313211 ],\n",
       "       [ 5.48390864,  8.23155031],\n",
       "       [ 5.092101  ,  7.71420684],\n",
       "       [ 4.0345597 , 10.14458937],\n",
       "       [ 4.09992183,  8.62278977],\n",
       "       [ 2.75293822,  8.6698601 ],\n",
       "       [ 4.88487414, 10.77745076],\n",
       "       [ 3.66556381,  9.49769605],\n",
       "       [ 3.02204905,  8.396645  ],\n",
       "       [ 2.64278154,  8.87217188],\n",
       "       [ 5.10769289,  9.70684801],\n",
       "       [ 4.44717768,  9.90801319],\n",
       "       [ 3.575983  ,  8.28743009],\n",
       "       [ 3.27317577,  9.15735274],\n",
       "       [ 2.42826331,  8.06966747],\n",
       "       [ 3.39233183,  8.27670036],\n",
       "       [ 2.74022091,  9.53647021],\n",
       "       [ 3.62041195,  8.61370298],\n",
       "       [ 3.95181361, 10.37941553],\n",
       "       [ 3.68585295,  7.72734282],\n",
       "       [ 4.53692949, 10.24991827],\n",
       "       [ 3.68220242,  8.10524664],\n",
       "       [ 2.98039722,  9.39929436],\n",
       "       [ 2.9328196 ,  8.54873302],\n",
       "       [ 3.52852711,  7.7142727 ],\n",
       "       [ 5.59912786,  8.5974186 ],\n",
       "       [ 3.64762721,  9.15497298],\n",
       "       [ 2.99683111, 10.32307484],\n",
       "       [ 1.07828933,  7.83396799],\n",
       "       [ 4.51461121,  9.720833  ],\n",
       "       [ 4.28872046,  6.36270932],\n",
       "       [ 5.66368277,  9.14059403],\n",
       "       [ 2.55738219,  9.0758516 ],\n",
       "       [ 3.49193833, 10.38515674],\n",
       "       [ 4.17237521,  9.04738254],\n",
       "       [ 4.94166132,  9.82506526],\n",
       "       [ 3.10129525,  9.35423508],\n",
       "       [ 4.5038107 ,  8.29155206],\n",
       "       [ 3.94583124,  8.72616965],\n",
       "       [ 3.58986611,  6.27640018],\n",
       "       [ 4.28775952, 10.57916978],\n",
       "       [ 4.37749456,  7.6817213 ],\n",
       "       [ 2.90539967,  9.36141802],\n",
       "       [ 4.84672151,  8.51746686],\n",
       "       [ 5.59487423, 10.19124289],\n",
       "       [ 3.48279021,  7.99979733],\n",
       "       [ 4.81300105,  9.33059541],\n",
       "       [ 3.03246739,  7.36378913],\n",
       "       [ 4.21355422,  7.7781798 ],\n",
       "       [ 2.70180694, 10.39180754],\n",
       "       [ 4.57469928, 10.3208248 ],\n",
       "       [ 3.04506889,  8.45343454],\n",
       "       [ 4.39823734,  9.19096424],\n",
       "       [ 3.9734357 , 10.29612344],\n",
       "       [ 5.0143362 ,  8.39168969],\n",
       "       [ 2.28747107,  9.31054509],\n",
       "       [ 3.28854056, 10.57120509],\n",
       "       [ 4.34987971,  7.59201362],\n",
       "       [ 3.54796017,  9.09442325],\n",
       "       [ 4.1036825 , 10.87162564],\n",
       "       [ 4.11078818,  5.77804986],\n",
       "       [ 3.48169379,  8.52143022],\n",
       "       [ 3.1424712 ,  8.70326769],\n",
       "       [ 3.61598006,  7.8915949 ],\n",
       "       [ 2.92447258,  9.22372217],\n",
       "       [ 2.90783596,  7.08373006],\n",
       "       [ 4.61278573,  8.25664117]])"
      ]
     },
     "execution_count": 43,
     "metadata": {},
     "output_type": "execute_result"
    }
   ],
   "source": [
    "np_sample"
   ]
  },
  {
   "cell_type": "code",
   "execution_count": 31,
   "metadata": {},
   "outputs": [],
   "source": [
    "kears_sample = np.zeros((num_of_samples, 2)) #100筆2維向量，以下迴圈輸入服從規定常態分配的向量\n",
    "for i in range(num_of_samples):\n",
    "    kears_sample[i] = sample_model.predict([test_mean, test_log_var])"
   ]
  },
  {
   "cell_type": "code",
   "execution_count": 42,
   "metadata": {},
   "outputs": [
    {
     "data": {
      "text/plain": [
       "array([[ 5.0580492 ,  8.52884293],\n",
       "       [ 2.05793047,  9.77625179],\n",
       "       [ 5.24484634,  9.74450779],\n",
       "       [ 4.39279413,  7.8901186 ],\n",
       "       [ 5.90641069,  9.00927162],\n",
       "       [ 5.0019393 ,  7.02149963],\n",
       "       [ 3.94315434, 10.76341629],\n",
       "       [ 4.63526964,  9.58420277],\n",
       "       [ 3.33372331,  7.56639004],\n",
       "       [ 4.09860849,  7.75074768],\n",
       "       [ 3.97260571,  8.92345047],\n",
       "       [ 4.47688293, 10.1596508 ],\n",
       "       [ 4.77077961, 10.08753777],\n",
       "       [ 5.68126535,  8.36770153],\n",
       "       [ 3.98388577,  8.53683758],\n",
       "       [ 3.68201184,  8.12078857],\n",
       "       [ 2.95955229,  8.02174568],\n",
       "       [ 4.82679272,  9.70175934],\n",
       "       [ 4.06302261,  6.40324545],\n",
       "       [ 4.04698229, 10.06652641],\n",
       "       [ 3.74326777,  8.68317413],\n",
       "       [ 2.08623028,  9.79720592],\n",
       "       [ 2.36143398,  8.72496414],\n",
       "       [ 5.48997831, 10.2927351 ],\n",
       "       [ 3.61952734,  9.16607475],\n",
       "       [ 4.61282635,  7.96361685],\n",
       "       [ 5.26498795, 11.20587349],\n",
       "       [ 4.76329994, 10.58777142],\n",
       "       [ 3.65003777,  8.20364475],\n",
       "       [ 3.50373936,  8.14400673],\n",
       "       [ 1.90202332,  8.0618124 ],\n",
       "       [ 5.55911732,  9.01103687],\n",
       "       [ 5.12151909,  9.26958656],\n",
       "       [ 4.65118551,  7.19066954],\n",
       "       [ 4.47270775, 10.70073509],\n",
       "       [ 2.28062129,  8.32472038],\n",
       "       [ 3.29439402,  7.06217289],\n",
       "       [ 2.91337585, 10.21520424],\n",
       "       [ 4.09773922,  8.56505013],\n",
       "       [ 4.0959568 ,  9.50438118],\n",
       "       [ 5.05664968,  8.38165569],\n",
       "       [ 3.84446287,  7.57171106],\n",
       "       [ 3.20934725,  9.24782944],\n",
       "       [ 4.05488348, 10.9485321 ],\n",
       "       [ 2.90919447,  9.6538763 ],\n",
       "       [ 4.18239307,  9.51695156],\n",
       "       [ 2.70825624, 11.10813713],\n",
       "       [ 3.285429  ,  8.30624866],\n",
       "       [ 4.86247921, 10.0133791 ],\n",
       "       [ 2.5076766 ,  8.37667274],\n",
       "       [ 4.43796635,  8.91289997],\n",
       "       [ 3.22496128, 10.08578873],\n",
       "       [ 2.98734403,  8.66031647],\n",
       "       [ 4.17636299,  9.27566338],\n",
       "       [ 3.03793144,  9.53468609],\n",
       "       [ 3.77359438,  8.86931801],\n",
       "       [ 3.86273384, 10.55433846],\n",
       "       [ 3.43859243,  8.81011009],\n",
       "       [ 3.482831  ,  7.03241062],\n",
       "       [ 3.63790083,  8.91930294],\n",
       "       [ 5.1655612 ,  9.1711359 ],\n",
       "       [ 3.24396658,  6.54010868],\n",
       "       [ 2.73779106,  8.50058651],\n",
       "       [ 3.31443453,  8.60572624],\n",
       "       [ 3.28880024, 12.29779816],\n",
       "       [ 4.34456015, 10.72271824],\n",
       "       [ 2.173069  ,  8.9726944 ],\n",
       "       [ 2.86291313,  8.47503376],\n",
       "       [ 3.98852634,  8.86810112],\n",
       "       [ 3.40029383,  9.34115791],\n",
       "       [ 2.95956087,  7.32669401],\n",
       "       [ 4.73925495,  8.06812477],\n",
       "       [ 3.42937398, 10.7761507 ],\n",
       "       [ 4.64320564,  8.51984215],\n",
       "       [ 4.06181097, 10.74029922],\n",
       "       [ 3.9108367 ,  9.6131115 ],\n",
       "       [ 3.16812181,  7.89866686],\n",
       "       [ 4.07629061,  5.9757309 ],\n",
       "       [ 3.37763357,  8.52441883],\n",
       "       [ 4.24513197,  7.88468552],\n",
       "       [ 3.49027872,  8.45981598],\n",
       "       [ 4.43804073,  8.47264671],\n",
       "       [ 3.27106833,  8.80968571],\n",
       "       [ 3.51506853,  9.8423872 ],\n",
       "       [ 4.04097033,  9.21962833],\n",
       "       [ 3.90967083,  7.94002676],\n",
       "       [ 2.79570985, 10.21218491],\n",
       "       [ 4.69796228,  8.30880737],\n",
       "       [ 3.44391131,  8.70353794],\n",
       "       [ 3.99850965, 12.13938236],\n",
       "       [ 3.82241607,  8.58848476],\n",
       "       [ 4.85181999, 10.09827805],\n",
       "       [ 5.30077982,  9.05641842],\n",
       "       [ 4.16906977,  8.80944252],\n",
       "       [ 5.23601246,  8.7747488 ],\n",
       "       [ 3.34664369,  8.07845783],\n",
       "       [ 4.5034256 ,  9.34775925],\n",
       "       [ 6.16672564,  8.49372864],\n",
       "       [ 3.98098564,  8.72312737],\n",
       "       [ 4.12637234,  9.16479492]])"
      ]
     },
     "execution_count": 42,
     "metadata": {},
     "output_type": "execute_result"
    }
   ],
   "source": [
    "kears_sample"
   ]
  },
  {
   "cell_type": "code",
   "execution_count": 32,
   "metadata": {
    "scrolled": true
   },
   "outputs": [
    {
     "data": {
      "text/plain": [
       "Text(0.5, 1.0, 'Normal Random Samples using Keras/Numpy')"
      ]
     },
     "execution_count": 32,
     "metadata": {},
     "output_type": "execute_result"
    },
    {
     "data": {
      "image/png": "[encoded data removed]",
      "text/plain": [
       "<Figure size 432x288 with 1 Axes>"
      ]
     },
     "metadata": {
      "needs_background": "light"
     },
     "output_type": "display_data"
    }
   ],
   "source": [
    "plt.plot(kears_sample[:, 0], kears_sample[:, 1], 'ro')\n",
    "plt.plot(np_sample[:, 0], np_sample[:, 1], 'o')\n",
    "plt.legend(['Keras', 'Numpy'])\n",
    "plt.title('Normal Random Samples using Keras/Numpy')"
   ]
  },
  {
   "cell_type": "markdown",
   "metadata": {},
   "source": [
    "Variational Autoencoder (VAE) 是一個重要的非監督式學習模型，具體應用的場合為特徵抽取/資料壓縮及還原，為影像處理中常見的模型之一。\n",
    "\n",
    "在建立 VAE中，需要的兩個重要技巧:\n",
    "\n",
    "- 分歧-合併\n",
    "- 自定義函數 (抽樣函數)"
   ]
  },
  {
   "cell_type": "code",
   "execution_count": null,
   "metadata": {},
   "outputs": [],
   "source": []
  }
 ],
 "metadata": {
  "kernelspec": {
   "display_name": "Python 3",
   "language": "python",
   "name": "python3"
  },
  "language_info": {
   "codemirror_mode": {
    "name": "ipython",
    "version": 3
   },
   "file_extension": ".py",
   "mimetype": "text/x-python",
   "name": "python",
   "nbconvert_exporter": "python",
   "pygments_lexer": "ipython3",
   "version": "3.7.6"
  }
 },
 "nbformat": 4,
 "nbformat_minor": 4
}
