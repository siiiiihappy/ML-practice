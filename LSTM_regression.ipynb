{
 "cells": [
  {
   "cell_type": "code",
   "execution_count": 1,
   "metadata": {},
   "outputs": [],
   "source": [
    "import numpy as np\n",
    "import pandas as pd\n",
    "import matplotlib.pyplot as plt\n",
    "import pandas_datareader.data as web\n",
    "import datetime as dt"
   ]
  },
  {
   "cell_type": "code",
   "execution_count": 2,
   "metadata": {},
   "outputs": [],
   "source": [
    "df = web.DataReader('0050.TW','yahoo',start='2018-01-01')"
   ]
  },
  {
   "cell_type": "code",
   "execution_count": 3,
   "metadata": {},
   "outputs": [
    {
     "data": {
      "text/html": [
       "<div>\n",
       "<style scoped>\n",
       "    .dataframe tbody tr th:only-of-type {\n",
       "        vertical-align: middle;\n",
       "    }\n",
       "\n",
       "    .dataframe tbody tr th {\n",
       "        vertical-align: top;\n",
       "    }\n",
       "\n",
       "    .dataframe thead th {\n",
       "        text-align: right;\n",
       "    }\n",
       "</style>\n",
       "<table border=\"1\" class=\"dataframe\">\n",
       "  <thead>\n",
       "    <tr style=\"text-align: right;\">\n",
       "      <th></th>\n",
       "      <th>High</th>\n",
       "      <th>Low</th>\n",
       "      <th>Open</th>\n",
       "      <th>Close</th>\n",
       "      <th>Volume</th>\n",
       "      <th>Adj Close</th>\n",
       "    </tr>\n",
       "    <tr>\n",
       "      <th>Date</th>\n",
       "      <th></th>\n",
       "      <th></th>\n",
       "      <th></th>\n",
       "      <th></th>\n",
       "      <th></th>\n",
       "      <th></th>\n",
       "    </tr>\n",
       "  </thead>\n",
       "  <tbody>\n",
       "    <tr>\n",
       "      <th>2018-01-02</th>\n",
       "      <td>82.599998</td>\n",
       "      <td>82.150002</td>\n",
       "      <td>82.150002</td>\n",
       "      <td>82.599998</td>\n",
       "      <td>3613199</td>\n",
       "      <td>82.599998</td>\n",
       "    </tr>\n",
       "    <tr>\n",
       "      <th>2018-01-03</th>\n",
       "      <td>83.449997</td>\n",
       "      <td>82.949997</td>\n",
       "      <td>82.949997</td>\n",
       "      <td>83.349998</td>\n",
       "      <td>7196437</td>\n",
       "      <td>83.349998</td>\n",
       "    </tr>\n",
       "    <tr>\n",
       "      <th>2018-01-04</th>\n",
       "      <td>83.650002</td>\n",
       "      <td>83.199997</td>\n",
       "      <td>83.500000</td>\n",
       "      <td>83.500000</td>\n",
       "      <td>5627565</td>\n",
       "      <td>83.500000</td>\n",
       "    </tr>\n",
       "    <tr>\n",
       "      <th>2018-01-05</th>\n",
       "      <td>83.800003</td>\n",
       "      <td>83.300003</td>\n",
       "      <td>83.500000</td>\n",
       "      <td>83.750000</td>\n",
       "      <td>7616796</td>\n",
       "      <td>83.750000</td>\n",
       "    </tr>\n",
       "    <tr>\n",
       "      <th>2018-01-08</th>\n",
       "      <td>84.150002</td>\n",
       "      <td>83.699997</td>\n",
       "      <td>83.800003</td>\n",
       "      <td>84.099998</td>\n",
       "      <td>5189611</td>\n",
       "      <td>84.099998</td>\n",
       "    </tr>\n",
       "    <tr>\n",
       "      <th>...</th>\n",
       "      <td>...</td>\n",
       "      <td>...</td>\n",
       "      <td>...</td>\n",
       "      <td>...</td>\n",
       "      <td>...</td>\n",
       "      <td>...</td>\n",
       "    </tr>\n",
       "    <tr>\n",
       "      <th>2021-02-02</th>\n",
       "      <td>135.050003</td>\n",
       "      <td>132.500000</td>\n",
       "      <td>132.500000</td>\n",
       "      <td>134.449997</td>\n",
       "      <td>10888373</td>\n",
       "      <td>134.449997</td>\n",
       "    </tr>\n",
       "    <tr>\n",
       "      <th>2021-02-03</th>\n",
       "      <td>135.500000</td>\n",
       "      <td>134.199997</td>\n",
       "      <td>135.449997</td>\n",
       "      <td>134.350006</td>\n",
       "      <td>7081970</td>\n",
       "      <td>134.350006</td>\n",
       "    </tr>\n",
       "    <tr>\n",
       "      <th>2021-02-04</th>\n",
       "      <td>134.550003</td>\n",
       "      <td>132.350006</td>\n",
       "      <td>133.399994</td>\n",
       "      <td>133.550003</td>\n",
       "      <td>6558479</td>\n",
       "      <td>133.550003</td>\n",
       "    </tr>\n",
       "    <tr>\n",
       "      <th>2021-02-05</th>\n",
       "      <td>136.300003</td>\n",
       "      <td>134.199997</td>\n",
       "      <td>134.800003</td>\n",
       "      <td>134.800003</td>\n",
       "      <td>8799751</td>\n",
       "      <td>134.800003</td>\n",
       "    </tr>\n",
       "    <tr>\n",
       "      <th>2021-02-17</th>\n",
       "      <td>140.850006</td>\n",
       "      <td>139.000000</td>\n",
       "      <td>139.000000</td>\n",
       "      <td>140.550003</td>\n",
       "      <td>19222276</td>\n",
       "      <td>140.550003</td>\n",
       "    </tr>\n",
       "  </tbody>\n",
       "</table>\n",
       "<p>757 rows × 6 columns</p>\n",
       "</div>"
      ],
      "text/plain": [
       "                  High         Low        Open       Close    Volume  \\\n",
       "Date                                                                   \n",
       "2018-01-02   82.599998   82.150002   82.150002   82.599998   3613199   \n",
       "2018-01-03   83.449997   82.949997   82.949997   83.349998   7196437   \n",
       "2018-01-04   83.650002   83.199997   83.500000   83.500000   5627565   \n",
       "2018-01-05   83.800003   83.300003   83.500000   83.750000   7616796   \n",
       "2018-01-08   84.150002   83.699997   83.800003   84.099998   5189611   \n",
       "...                ...         ...         ...         ...       ...   \n",
       "2021-02-02  135.050003  132.500000  132.500000  134.449997  10888373   \n",
       "2021-02-03  135.500000  134.199997  135.449997  134.350006   7081970   \n",
       "2021-02-04  134.550003  132.350006  133.399994  133.550003   6558479   \n",
       "2021-02-05  136.300003  134.199997  134.800003  134.800003   8799751   \n",
       "2021-02-17  140.850006  139.000000  139.000000  140.550003  19222276   \n",
       "\n",
       "             Adj Close  \n",
       "Date                    \n",
       "2018-01-02   82.599998  \n",
       "2018-01-03   83.349998  \n",
       "2018-01-04   83.500000  \n",
       "2018-01-05   83.750000  \n",
       "2018-01-08   84.099998  \n",
       "...                ...  \n",
       "2021-02-02  134.449997  \n",
       "2021-02-03  134.350006  \n",
       "2021-02-04  133.550003  \n",
       "2021-02-05  134.800003  \n",
       "2021-02-17  140.550003  \n",
       "\n",
       "[757 rows x 6 columns]"
      ]
     },
     "execution_count": 3,
     "metadata": {},
     "output_type": "execute_result"
    }
   ],
   "source": [
    "df"
   ]
  },
  {
   "cell_type": "markdown",
   "metadata": {},
   "source": [
    "**運用前一天的volume去預測後一天股價開盤價-以LSTM為例**"
   ]
  },
  {
   "cell_type": "code",
   "execution_count": 82,
   "metadata": {},
   "outputs": [],
   "source": [
    "#進行資料正規畫\n",
    "def regularize(data):\n",
    "    data_train = data.apply(lambda x:((x - np.mean(x)) /(np.max(x) - np.min(x))),axis = 0) #axis = 0 -> columns\n",
    "    return data_train"
   ]
  },
  {
   "cell_type": "code",
   "execution_count": 83,
   "metadata": {},
   "outputs": [
    {
     "data": {
      "text/html": [
       "<div>\n",
       "<style scoped>\n",
       "    .dataframe tbody tr th:only-of-type {\n",
       "        vertical-align: middle;\n",
       "    }\n",
       "\n",
       "    .dataframe tbody tr th {\n",
       "        vertical-align: top;\n",
       "    }\n",
       "\n",
       "    .dataframe thead th {\n",
       "        text-align: right;\n",
       "    }\n",
       "</style>\n",
       "<table border=\"1\" class=\"dataframe\">\n",
       "  <thead>\n",
       "    <tr style=\"text-align: right;\">\n",
       "      <th></th>\n",
       "      <th>High</th>\n",
       "      <th>Low</th>\n",
       "      <th>Open</th>\n",
       "      <th>Close</th>\n",
       "      <th>Volume</th>\n",
       "      <th>Adj Close</th>\n",
       "    </tr>\n",
       "    <tr>\n",
       "      <th>Date</th>\n",
       "      <th></th>\n",
       "      <th></th>\n",
       "      <th></th>\n",
       "      <th></th>\n",
       "      <th></th>\n",
       "      <th></th>\n",
       "    </tr>\n",
       "  </thead>\n",
       "  <tbody>\n",
       "    <tr>\n",
       "      <th>2018-01-02</th>\n",
       "      <td>-0.092393</td>\n",
       "      <td>-0.086476</td>\n",
       "      <td>-0.098310</td>\n",
       "      <td>-0.083978</td>\n",
       "      <td>-0.077240</td>\n",
       "      <td>-0.083978</td>\n",
       "    </tr>\n",
       "    <tr>\n",
       "      <th>2018-01-03</th>\n",
       "      <td>-0.080628</td>\n",
       "      <td>-0.075326</td>\n",
       "      <td>-0.086545</td>\n",
       "      <td>-0.073904</td>\n",
       "      <td>-0.024916</td>\n",
       "      <td>-0.073904</td>\n",
       "    </tr>\n",
       "    <tr>\n",
       "      <th>2018-01-04</th>\n",
       "      <td>-0.077860</td>\n",
       "      <td>-0.071841</td>\n",
       "      <td>-0.078457</td>\n",
       "      <td>-0.071890</td>\n",
       "      <td>-0.047825</td>\n",
       "      <td>-0.071890</td>\n",
       "    </tr>\n",
       "    <tr>\n",
       "      <th>2018-01-05</th>\n",
       "      <td>-0.075784</td>\n",
       "      <td>-0.070448</td>\n",
       "      <td>-0.078457</td>\n",
       "      <td>-0.068532</td>\n",
       "      <td>-0.018777</td>\n",
       "      <td>-0.068532</td>\n",
       "    </tr>\n",
       "    <tr>\n",
       "      <th>2018-01-08</th>\n",
       "      <td>-0.070939</td>\n",
       "      <td>-0.064873</td>\n",
       "      <td>-0.074045</td>\n",
       "      <td>-0.063831</td>\n",
       "      <td>-0.054220</td>\n",
       "      <td>-0.063831</td>\n",
       "    </tr>\n",
       "    <tr>\n",
       "      <th>...</th>\n",
       "      <td>...</td>\n",
       "      <td>...</td>\n",
       "      <td>...</td>\n",
       "      <td>...</td>\n",
       "      <td>...</td>\n",
       "      <td>...</td>\n",
       "    </tr>\n",
       "    <tr>\n",
       "      <th>2021-02-02</th>\n",
       "      <td>0.633559</td>\n",
       "      <td>0.615267</td>\n",
       "      <td>0.642131</td>\n",
       "      <td>0.612462</td>\n",
       "      <td>0.028996</td>\n",
       "      <td>0.612462</td>\n",
       "    </tr>\n",
       "    <tr>\n",
       "      <th>2021-02-03</th>\n",
       "      <td>0.639787</td>\n",
       "      <td>0.638960</td>\n",
       "      <td>0.685514</td>\n",
       "      <td>0.611119</td>\n",
       "      <td>-0.026587</td>\n",
       "      <td>0.611119</td>\n",
       "    </tr>\n",
       "    <tr>\n",
       "      <th>2021-02-04</th>\n",
       "      <td>0.626639</td>\n",
       "      <td>0.613176</td>\n",
       "      <td>0.655366</td>\n",
       "      <td>0.600374</td>\n",
       "      <td>-0.034231</td>\n",
       "      <td>0.600374</td>\n",
       "    </tr>\n",
       "    <tr>\n",
       "      <th>2021-02-05</th>\n",
       "      <td>0.650860</td>\n",
       "      <td>0.638960</td>\n",
       "      <td>0.675955</td>\n",
       "      <td>0.617164</td>\n",
       "      <td>-0.001503</td>\n",
       "      <td>0.617164</td>\n",
       "    </tr>\n",
       "    <tr>\n",
       "      <th>2021-02-17</th>\n",
       "      <td>0.713836</td>\n",
       "      <td>0.705859</td>\n",
       "      <td>0.737720</td>\n",
       "      <td>0.694397</td>\n",
       "      <td>0.150692</td>\n",
       "      <td>0.694397</td>\n",
       "    </tr>\n",
       "  </tbody>\n",
       "</table>\n",
       "<p>757 rows × 6 columns</p>\n",
       "</div>"
      ],
      "text/plain": [
       "                High       Low      Open     Close    Volume  Adj Close\n",
       "Date                                                                   \n",
       "2018-01-02 -0.092393 -0.086476 -0.098310 -0.083978 -0.077240  -0.083978\n",
       "2018-01-03 -0.080628 -0.075326 -0.086545 -0.073904 -0.024916  -0.073904\n",
       "2018-01-04 -0.077860 -0.071841 -0.078457 -0.071890 -0.047825  -0.071890\n",
       "2018-01-05 -0.075784 -0.070448 -0.078457 -0.068532 -0.018777  -0.068532\n",
       "2018-01-08 -0.070939 -0.064873 -0.074045 -0.063831 -0.054220  -0.063831\n",
       "...              ...       ...       ...       ...       ...        ...\n",
       "2021-02-02  0.633559  0.615267  0.642131  0.612462  0.028996   0.612462\n",
       "2021-02-03  0.639787  0.638960  0.685514  0.611119 -0.026587   0.611119\n",
       "2021-02-04  0.626639  0.613176  0.655366  0.600374 -0.034231   0.600374\n",
       "2021-02-05  0.650860  0.638960  0.675955  0.617164 -0.001503   0.617164\n",
       "2021-02-17  0.713836  0.705859  0.737720  0.694397  0.150692   0.694397\n",
       "\n",
       "[757 rows x 6 columns]"
      ]
     },
     "execution_count": 83,
     "metadata": {},
     "output_type": "execute_result"
    }
   ],
   "source": [
    "df_r = regularize(df)\n",
    "df_r"
   ]
  },
  {
   "cell_type": "code",
   "execution_count": 84,
   "metadata": {},
   "outputs": [],
   "source": [
    "#新增一行Open向後移一天\n",
    "df_new = df_r['Volume'].shift(1).rename('lag_Vol')\n",
    "df_r1 = pd.concat([df_r,df_new],axis=1)"
   ]
  },
  {
   "cell_type": "code",
   "execution_count": 85,
   "metadata": {},
   "outputs": [],
   "source": [
    "df_r1 = df_r1.dropna()"
   ]
  },
  {
   "cell_type": "code",
   "execution_count": 86,
   "metadata": {},
   "outputs": [],
   "source": [
    "from sklearn.model_selection import train_test_split\n",
    "from keras.models import Sequential\n",
    "from keras.layers import Dense\n",
    "from keras.layers import LSTM\n",
    "from keras.layers import Dropout"
   ]
  },
  {
   "cell_type": "code",
   "execution_count": 87,
   "metadata": {},
   "outputs": [],
   "source": [
    "#x_train, x_test, y_train, y_test = train_test_split(df_r1['lag_Vol'],df_r1['Open'],test_size=0.2,random_state=80)"
   ]
  },
  {
   "cell_type": "code",
   "execution_count": 88,
   "metadata": {},
   "outputs": [],
   "source": [
    "x_train = df_r1['lag_Vol'].iloc[:600] #訓練資料取前600筆\n",
    "x_test = df_r1['lag_Vol'].iloc[600:]\n",
    "y_train = df_r1['Open'].iloc[:600]\n",
    "y_test = df_r1['Open'].iloc[600:]"
   ]
  },
  {
   "cell_type": "code",
   "execution_count": 89,
   "metadata": {},
   "outputs": [
    {
     "data": {
      "text/plain": [
       "(Date\n",
       " 2018-01-03   -0.077240\n",
       " 2018-01-04   -0.024916\n",
       " 2018-01-05   -0.047825\n",
       " 2018-01-08   -0.018777\n",
       " 2018-01-09   -0.054220\n",
       "                 ...   \n",
       " 2020-06-19   -0.056467\n",
       " 2020-06-22   -0.095920\n",
       " 2020-06-23    0.024485\n",
       " 2020-06-24   -0.003472\n",
       " 2020-06-29    0.016928\n",
       " Name: lag_Vol, Length: 600, dtype: float64,\n",
       " Date\n",
       " 2018-01-03   -0.086545\n",
       " 2018-01-04   -0.078457\n",
       " 2018-01-05   -0.078457\n",
       " 2018-01-08   -0.074045\n",
       " 2018-01-09   -0.069633\n",
       "                 ...   \n",
       " 2020-06-19    0.002425\n",
       " 2020-06-22    0.000219\n",
       " 2020-06-23    0.011249\n",
       " 2020-06-24    0.014190\n",
       " 2020-06-29    0.006102\n",
       " Name: Open, Length: 600, dtype: float64)"
      ]
     },
     "execution_count": 89,
     "metadata": {},
     "output_type": "execute_result"
    }
   ],
   "source": [
    "x_train,y_train"
   ]
  },
  {
   "cell_type": "code",
   "execution_count": 90,
   "metadata": {},
   "outputs": [
    {
     "data": {
      "text/plain": [
       "(Date\n",
       " 2020-06-30    0.012884\n",
       " 2020-07-01   -0.012668\n",
       " 2020-07-02    0.015721\n",
       " 2020-07-03   -0.019001\n",
       " 2020-07-06    0.088790\n",
       "                 ...   \n",
       " 2021-02-02    0.076376\n",
       " 2021-02-03    0.028996\n",
       " 2021-02-04   -0.026587\n",
       " 2021-02-05   -0.034231\n",
       " 2021-02-17   -0.001503\n",
       " Name: lag_Vol, Length: 156, dtype: float64,\n",
       " Date\n",
       " 2020-06-30    0.010514\n",
       " 2020-07-01    0.016396\n",
       " 2020-07-02    0.026690\n",
       " 2020-07-03    0.048014\n",
       " 2020-07-06    0.064190\n",
       "                 ...   \n",
       " 2021-02-02    0.642131\n",
       " 2021-02-03    0.685514\n",
       " 2021-02-04    0.655366\n",
       " 2021-02-05    0.675955\n",
       " 2021-02-17    0.737720\n",
       " Name: Open, Length: 156, dtype: float64)"
      ]
     },
     "execution_count": 90,
     "metadata": {},
     "output_type": "execute_result"
    }
   ],
   "source": [
    "x_test,y_test"
   ]
  },
  {
   "cell_type": "code",
   "execution_count": 91,
   "metadata": {},
   "outputs": [
    {
     "data": {
      "text/plain": [
       "((600,), (156,), (600,))"
      ]
     },
     "execution_count": 91,
     "metadata": {},
     "output_type": "execute_result"
    }
   ],
   "source": [
    "x_train.shape,x_test.shape,y_train.shape"
   ]
  },
  {
   "cell_type": "code",
   "execution_count": 92,
   "metadata": {},
   "outputs": [],
   "source": [
    "x_train = np.array(x_train).reshape(1,600,1) #1個樣本，601個時間步長和1個特徵\n",
    "x_test = np.array(x_test).reshape(1,156,1)\n",
    "y_train = np.array(y_train).reshape(1,600,1)\n",
    "y_test = np.array(y_test).reshape(1,156,1)"
   ]
  },
  {
   "cell_type": "code",
   "execution_count": 197,
   "metadata": {},
   "outputs": [],
   "source": [
    "model = Sequential()\n",
    "#model.build()\n",
    "model.add(LSTM(50,return_sequences = True, input_shape=(None,1)))\n",
    "model.add(Dropout(0.2))\n",
    "#model.add(LSTM(50,return_sequences = True))\n",
    "#model.add(Dropout(0.2))\n",
    "model.add(Dense(1))"
   ]
  },
  {
   "cell_type": "code",
   "execution_count": 198,
   "metadata": {},
   "outputs": [
    {
     "name": "stdout",
     "output_type": "stream",
     "text": [
      "Model: \"sequential_4\"\n",
      "_________________________________________________________________\n",
      "Layer (type)                 Output Shape              Param #   \n",
      "=================================================================\n",
      "lstm_6 (LSTM)                (None, None, 50)          10400     \n",
      "_________________________________________________________________\n",
      "dropout_6 (Dropout)          (None, None, 50)          0         \n",
      "_________________________________________________________________\n",
      "dense_4 (Dense)              (None, None, 1)           51        \n",
      "=================================================================\n",
      "Total params: 10,451\n",
      "Trainable params: 10,451\n",
      "Non-trainable params: 0\n",
      "_________________________________________________________________\n"
     ]
    }
   ],
   "source": [
    "model.summary()"
   ]
  },
  {
   "cell_type": "code",
   "execution_count": 199,
   "metadata": {},
   "outputs": [],
   "source": [
    "model.compile(loss = 'mean_squared_error',\n",
    "              optimizer='adam', \n",
    "              metrics=['accuracy'])"
   ]
  },
  {
   "cell_type": "code",
   "execution_count": 200,
   "metadata": {},
   "outputs": [
    {
     "name": "stdout",
     "output_type": "stream",
     "text": [
      "Epoch 1/10\n",
      "1/1 [==============================] - 1s 562ms/step - loss: 0.0153 - accuracy: 0.0000e+00\n",
      "Epoch 2/10\n",
      "1/1 [==============================] - 0s 158ms/step - loss: 0.0135 - accuracy: 0.0000e+00\n",
      "Epoch 3/10\n",
      "1/1 [==============================] - 0s 160ms/step - loss: 0.0116 - accuracy: 0.0000e+00\n",
      "Epoch 4/10\n",
      "1/1 [==============================] - 0s 163ms/step - loss: 0.0102 - accuracy: 0.0000e+00\n",
      "Epoch 5/10\n",
      "1/1 [==============================] - 0s 166ms/step - loss: 0.0089 - accuracy: 0.0000e+00\n",
      "Epoch 6/10\n",
      "1/1 [==============================] - 0s 161ms/step - loss: 0.0077 - accuracy: 0.0000e+00\n",
      "Epoch 7/10\n",
      "1/1 [==============================] - 0s 163ms/step - loss: 0.0070 - accuracy: 0.0000e+00\n",
      "Epoch 8/10\n",
      "1/1 [==============================] - 0s 160ms/step - loss: 0.0063 - accuracy: 0.0000e+00\n",
      "Epoch 9/10\n",
      "1/1 [==============================] - 0s 162ms/step - loss: 0.0061 - accuracy: 0.0000e+00\n",
      "Epoch 10/10\n",
      "1/1 [==============================] - 0s 163ms/step - loss: 0.0058 - accuracy: 0.0000e+00\n"
     ]
    },
    {
     "data": {
      "text/plain": [
       "<keras.callbacks.callbacks.History at 0x1fbadbc4948>"
      ]
     },
     "execution_count": 200,
     "metadata": {},
     "output_type": "execute_result"
    }
   ],
   "source": [
    "model.fit(x_train, y_train,batch_size=30,epochs=10)"
   ]
  },
  {
   "cell_type": "code",
   "execution_count": 201,
   "metadata": {},
   "outputs": [
    {
     "name": "stdout",
     "output_type": "stream",
     "text": [
      "\r",
      "1/1 [==============================] - 0s 130ms/step\n"
     ]
    }
   ],
   "source": [
    "score = model.evaluate(x_test,y_test)"
   ]
  },
  {
   "cell_type": "code",
   "execution_count": 202,
   "metadata": {},
   "outputs": [
    {
     "name": "stdout",
     "output_type": "stream",
     "text": [
      "測試資料的loss 0.20584893226623535\n",
      "測試資料的正確率 0.0\n"
     ]
    }
   ],
   "source": [
    "print('測試資料的loss',score[0]) #相當不準確\n",
    "print('測試資料的正確率',score[1])"
   ]
  },
  {
   "cell_type": "markdown",
   "metadata": {},
   "source": [
    "**以前一天收盤價預測後一天收盤價**"
   ]
  },
  {
   "cell_type": "code",
   "execution_count": 100,
   "metadata": {},
   "outputs": [],
   "source": [
    "df_new2 = df_r['Close'].shift(1).rename('lag_Close')\n",
    "df_r2 = pd.concat([df_r,df_new2],axis=1)"
   ]
  },
  {
   "cell_type": "code",
   "execution_count": 101,
   "metadata": {},
   "outputs": [],
   "source": [
    "df_r2 = df_r2.dropna()"
   ]
  },
  {
   "cell_type": "code",
   "execution_count": 102,
   "metadata": {},
   "outputs": [
    {
     "data": {
      "text/html": [
       "<div>\n",
       "<style scoped>\n",
       "    .dataframe tbody tr th:only-of-type {\n",
       "        vertical-align: middle;\n",
       "    }\n",
       "\n",
       "    .dataframe tbody tr th {\n",
       "        vertical-align: top;\n",
       "    }\n",
       "\n",
       "    .dataframe thead th {\n",
       "        text-align: right;\n",
       "    }\n",
       "</style>\n",
       "<table border=\"1\" class=\"dataframe\">\n",
       "  <thead>\n",
       "    <tr style=\"text-align: right;\">\n",
       "      <th></th>\n",
       "      <th>High</th>\n",
       "      <th>Low</th>\n",
       "      <th>Open</th>\n",
       "      <th>Close</th>\n",
       "      <th>Volume</th>\n",
       "      <th>Adj Close</th>\n",
       "      <th>lag_Close</th>\n",
       "    </tr>\n",
       "    <tr>\n",
       "      <th>Date</th>\n",
       "      <th></th>\n",
       "      <th></th>\n",
       "      <th></th>\n",
       "      <th></th>\n",
       "      <th></th>\n",
       "      <th></th>\n",
       "      <th></th>\n",
       "    </tr>\n",
       "  </thead>\n",
       "  <tbody>\n",
       "    <tr>\n",
       "      <th>2018-01-03</th>\n",
       "      <td>-0.080628</td>\n",
       "      <td>-0.075326</td>\n",
       "      <td>-0.086545</td>\n",
       "      <td>-0.073904</td>\n",
       "      <td>-0.024916</td>\n",
       "      <td>-0.073904</td>\n",
       "      <td>-0.083978</td>\n",
       "    </tr>\n",
       "    <tr>\n",
       "      <th>2018-01-04</th>\n",
       "      <td>-0.077860</td>\n",
       "      <td>-0.071841</td>\n",
       "      <td>-0.078457</td>\n",
       "      <td>-0.071890</td>\n",
       "      <td>-0.047825</td>\n",
       "      <td>-0.071890</td>\n",
       "      <td>-0.073904</td>\n",
       "    </tr>\n",
       "    <tr>\n",
       "      <th>2018-01-05</th>\n",
       "      <td>-0.075784</td>\n",
       "      <td>-0.070448</td>\n",
       "      <td>-0.078457</td>\n",
       "      <td>-0.068532</td>\n",
       "      <td>-0.018777</td>\n",
       "      <td>-0.068532</td>\n",
       "      <td>-0.071890</td>\n",
       "    </tr>\n",
       "    <tr>\n",
       "      <th>2018-01-08</th>\n",
       "      <td>-0.070939</td>\n",
       "      <td>-0.064873</td>\n",
       "      <td>-0.074045</td>\n",
       "      <td>-0.063831</td>\n",
       "      <td>-0.054220</td>\n",
       "      <td>-0.063831</td>\n",
       "      <td>-0.068532</td>\n",
       "    </tr>\n",
       "    <tr>\n",
       "      <th>2018-01-09</th>\n",
       "      <td>-0.069555</td>\n",
       "      <td>-0.062085</td>\n",
       "      <td>-0.069633</td>\n",
       "      <td>-0.063159</td>\n",
       "      <td>-0.076488</td>\n",
       "      <td>-0.063159</td>\n",
       "      <td>-0.063831</td>\n",
       "    </tr>\n",
       "    <tr>\n",
       "      <th>...</th>\n",
       "      <td>...</td>\n",
       "      <td>...</td>\n",
       "      <td>...</td>\n",
       "      <td>...</td>\n",
       "      <td>...</td>\n",
       "      <td>...</td>\n",
       "      <td>...</td>\n",
       "    </tr>\n",
       "    <tr>\n",
       "      <th>2021-02-02</th>\n",
       "      <td>0.633559</td>\n",
       "      <td>0.615267</td>\n",
       "      <td>0.642131</td>\n",
       "      <td>0.612462</td>\n",
       "      <td>0.028996</td>\n",
       "      <td>0.612462</td>\n",
       "      <td>0.562765</td>\n",
       "    </tr>\n",
       "    <tr>\n",
       "      <th>2021-02-03</th>\n",
       "      <td>0.639787</td>\n",
       "      <td>0.638960</td>\n",
       "      <td>0.685514</td>\n",
       "      <td>0.611119</td>\n",
       "      <td>-0.026587</td>\n",
       "      <td>0.611119</td>\n",
       "      <td>0.612462</td>\n",
       "    </tr>\n",
       "    <tr>\n",
       "      <th>2021-02-04</th>\n",
       "      <td>0.626639</td>\n",
       "      <td>0.613176</td>\n",
       "      <td>0.655366</td>\n",
       "      <td>0.600374</td>\n",
       "      <td>-0.034231</td>\n",
       "      <td>0.600374</td>\n",
       "      <td>0.611119</td>\n",
       "    </tr>\n",
       "    <tr>\n",
       "      <th>2021-02-05</th>\n",
       "      <td>0.650860</td>\n",
       "      <td>0.638960</td>\n",
       "      <td>0.675955</td>\n",
       "      <td>0.617164</td>\n",
       "      <td>-0.001503</td>\n",
       "      <td>0.617164</td>\n",
       "      <td>0.600374</td>\n",
       "    </tr>\n",
       "    <tr>\n",
       "      <th>2021-02-17</th>\n",
       "      <td>0.713836</td>\n",
       "      <td>0.705859</td>\n",
       "      <td>0.737720</td>\n",
       "      <td>0.694397</td>\n",
       "      <td>0.150692</td>\n",
       "      <td>0.694397</td>\n",
       "      <td>0.617164</td>\n",
       "    </tr>\n",
       "  </tbody>\n",
       "</table>\n",
       "<p>756 rows × 7 columns</p>\n",
       "</div>"
      ],
      "text/plain": [
       "                High       Low      Open     Close    Volume  Adj Close  \\\n",
       "Date                                                                      \n",
       "2018-01-03 -0.080628 -0.075326 -0.086545 -0.073904 -0.024916  -0.073904   \n",
       "2018-01-04 -0.077860 -0.071841 -0.078457 -0.071890 -0.047825  -0.071890   \n",
       "2018-01-05 -0.075784 -0.070448 -0.078457 -0.068532 -0.018777  -0.068532   \n",
       "2018-01-08 -0.070939 -0.064873 -0.074045 -0.063831 -0.054220  -0.063831   \n",
       "2018-01-09 -0.069555 -0.062085 -0.069633 -0.063159 -0.076488  -0.063159   \n",
       "...              ...       ...       ...       ...       ...        ...   \n",
       "2021-02-02  0.633559  0.615267  0.642131  0.612462  0.028996   0.612462   \n",
       "2021-02-03  0.639787  0.638960  0.685514  0.611119 -0.026587   0.611119   \n",
       "2021-02-04  0.626639  0.613176  0.655366  0.600374 -0.034231   0.600374   \n",
       "2021-02-05  0.650860  0.638960  0.675955  0.617164 -0.001503   0.617164   \n",
       "2021-02-17  0.713836  0.705859  0.737720  0.694397  0.150692   0.694397   \n",
       "\n",
       "            lag_Close  \n",
       "Date                   \n",
       "2018-01-03  -0.083978  \n",
       "2018-01-04  -0.073904  \n",
       "2018-01-05  -0.071890  \n",
       "2018-01-08  -0.068532  \n",
       "2018-01-09  -0.063831  \n",
       "...               ...  \n",
       "2021-02-02   0.562765  \n",
       "2021-02-03   0.612462  \n",
       "2021-02-04   0.611119  \n",
       "2021-02-05   0.600374  \n",
       "2021-02-17   0.617164  \n",
       "\n",
       "[756 rows x 7 columns]"
      ]
     },
     "execution_count": 102,
     "metadata": {},
     "output_type": "execute_result"
    }
   ],
   "source": [
    "df_r2"
   ]
  },
  {
   "cell_type": "code",
   "execution_count": 103,
   "metadata": {},
   "outputs": [],
   "source": [
    "x_train2 = df_r2['lag_Close'].iloc[:600] #訓練資料取前600筆\n",
    "x_test2 = df_r2['lag_Close'].iloc[600:]\n",
    "y_train2 = df_r2['Close'].iloc[:600]\n",
    "y_test2 = df_r2['Close'].iloc[600:]"
   ]
  },
  {
   "cell_type": "code",
   "execution_count": 104,
   "metadata": {},
   "outputs": [
    {
     "data": {
      "text/plain": [
       "(Date\n",
       " 2018-01-03   -0.083978\n",
       " 2018-01-04   -0.073904\n",
       " 2018-01-05   -0.071890\n",
       " 2018-01-08   -0.068532\n",
       " 2018-01-09   -0.063831\n",
       "                 ...   \n",
       " 2020-06-19    0.000642\n",
       " 2020-06-22   -0.000029\n",
       " 2020-06-23    0.002657\n",
       " 2020-06-24    0.008030\n",
       " 2020-06-29    0.015417\n",
       " Name: lag_Close, Length: 600, dtype: float64,\n",
       " Date\n",
       " 2018-01-03   -0.073904\n",
       " 2018-01-04   -0.071890\n",
       " 2018-01-05   -0.068532\n",
       " 2018-01-08   -0.063831\n",
       " 2018-01-09   -0.063159\n",
       "                 ...   \n",
       " 2020-06-19   -0.000029\n",
       " 2020-06-22    0.002657\n",
       " 2020-06-23    0.008030\n",
       " 2020-06-24    0.015417\n",
       " 2020-06-29    0.003329\n",
       " Name: Close, Length: 600, dtype: float64)"
      ]
     },
     "execution_count": 104,
     "metadata": {},
     "output_type": "execute_result"
    }
   ],
   "source": [
    "x_train2,y_train2"
   ]
  },
  {
   "cell_type": "code",
   "execution_count": 105,
   "metadata": {},
   "outputs": [
    {
     "data": {
      "text/plain": [
       "((600,), (156,), (600,))"
      ]
     },
     "execution_count": 105,
     "metadata": {},
     "output_type": "execute_result"
    }
   ],
   "source": [
    "x_train2.shape,x_test2.shape,y_train2.shape"
   ]
  },
  {
   "cell_type": "code",
   "execution_count": 106,
   "metadata": {},
   "outputs": [],
   "source": [
    "x_train2 = np.array(x_train2).reshape(1,600,1) #1個樣本，601個時間步長和1個特徵\n",
    "x_test2 = np.array(x_test2).reshape(1,156,1)\n",
    "y_train2 = np.array(y_train2).reshape(1,600,1)\n",
    "y_test2 = np.array(y_test2).reshape(1,156,1)"
   ]
  },
  {
   "cell_type": "code",
   "execution_count": 212,
   "metadata": {},
   "outputs": [
    {
     "name": "stdout",
     "output_type": "stream",
     "text": [
      "Epoch 1/10\n",
      "1/1 [==============================] - 0s 159ms/step - loss: 0.0020 - accuracy: 0.0000e+00\n",
      "Epoch 2/10\n",
      "1/1 [==============================] - 0s 159ms/step - loss: 0.0019 - accuracy: 0.0000e+00\n",
      "Epoch 3/10\n",
      "1/1 [==============================] - 0s 158ms/step - loss: 0.0017 - accuracy: 0.0000e+00\n",
      "Epoch 4/10\n",
      "1/1 [==============================] - 0s 161ms/step - loss: 0.0015 - accuracy: 0.0000e+00\n",
      "Epoch 5/10\n",
      "1/1 [==============================] - 0s 157ms/step - loss: 0.0014 - accuracy: 0.0000e+00\n",
      "Epoch 6/10\n",
      "1/1 [==============================] - 0s 157ms/step - loss: 0.0013 - accuracy: 0.0000e+00\n",
      "Epoch 7/10\n",
      "1/1 [==============================] - 0s 159ms/step - loss: 0.0012 - accuracy: 0.0000e+00\n",
      "Epoch 8/10\n",
      "1/1 [==============================] - 0s 163ms/step - loss: 0.0011 - accuracy: 0.0000e+00\n",
      "Epoch 9/10\n",
      "1/1 [==============================] - 0s 159ms/step - loss: 0.0010 - accuracy: 0.0000e+00\n",
      "Epoch 10/10\n",
      "1/1 [==============================] - 0s 161ms/step - loss: 9.5219e-04 - accuracy: 0.0000e+00\n"
     ]
    },
    {
     "data": {
      "text/plain": [
       "<keras.callbacks.callbacks.History at 0x1fba523a908>"
      ]
     },
     "execution_count": 212,
     "metadata": {},
     "output_type": "execute_result"
    }
   ],
   "source": [
    "model.fit(x_train2, y_train2,batch_size=30,epochs=10)"
   ]
  },
  {
   "cell_type": "code",
   "execution_count": 213,
   "metadata": {},
   "outputs": [
    {
     "name": "stdout",
     "output_type": "stream",
     "text": [
      "\r",
      "1/1 [==============================] - 0s 12ms/step\n"
     ]
    }
   ],
   "source": [
    "score2 = model.evaluate(x_test2,y_test2)"
   ]
  },
  {
   "cell_type": "code",
   "execution_count": 214,
   "metadata": {},
   "outputs": [
    {
     "name": "stdout",
     "output_type": "stream",
     "text": [
      "測試資料的loss 0.018089989200234413\n",
      "測試資料的正確率 0.0\n"
     ]
    }
   ],
   "source": [
    "print('測試資料的loss',score2[0]) #相當不準確，但loss較少\n",
    "print('測試資料的正確率',score2[1])"
   ]
  },
  {
   "cell_type": "markdown",
   "metadata": {},
   "source": [
    "**視覺化**"
   ]
  },
  {
   "cell_type": "code",
   "execution_count": 215,
   "metadata": {},
   "outputs": [],
   "source": [
    "x_predict1 = model.predict(x_test) #volumn預測open\n",
    "x_predict2 = model.predict(x_test2) #close預測close"
   ]
  },
  {
   "cell_type": "code",
   "execution_count": 216,
   "metadata": {},
   "outputs": [
    {
     "data": {
      "text/plain": [
       "array([[[-0.0050251 ],\n",
       "        [-0.00860971],\n",
       "        [-0.00870059],\n",
       "        [-0.0112203 ],\n",
       "        [-0.00357125],\n",
       "        [ 0.00385803],\n",
       "        [ 0.01038303],\n",
       "        [ 0.01274249],\n",
       "        [ 0.00930491],\n",
       "        [ 0.01094806],\n",
       "        [ 0.01330747],\n",
       "        [ 0.01746714],\n",
       "        [ 0.03172157],\n",
       "        [ 0.02786608],\n",
       "        [ 0.03653379],\n",
       "        [ 0.03383953],\n",
       "        [ 0.05028416],\n",
       "        [ 0.04396865],\n",
       "        [ 0.03497785],\n",
       "        [ 0.04046759],\n",
       "        [ 0.05350009],\n",
       "        [ 0.06581978],\n",
       "        [ 0.06110061],\n",
       "        [ 0.05132111],\n",
       "        [ 0.03934615],\n",
       "        [ 0.03009582],\n",
       "        [ 0.01838588],\n",
       "        [ 0.00789929],\n",
       "        [ 0.00156828],\n",
       "        [-0.00440464],\n",
       "        [-0.01063936],\n",
       "        [-0.01973421],\n",
       "        [-0.02451489],\n",
       "        [-0.02897857],\n",
       "        [-0.03499714],\n",
       "        [-0.03792147],\n",
       "        [-0.04273679],\n",
       "        [-0.04396526],\n",
       "        [-0.02735051],\n",
       "        [-0.02446883],\n",
       "        [-0.02833013],\n",
       "        [-0.03305272],\n",
       "        [-0.03923338],\n",
       "        [-0.04113752],\n",
       "        [-0.04497582],\n",
       "        [-0.04599217],\n",
       "        [-0.04660959],\n",
       "        [-0.04914397],\n",
       "        [-0.0501956 ],\n",
       "        [-0.0499297 ],\n",
       "        [-0.05002612],\n",
       "        [-0.0514066 ],\n",
       "        [-0.05034984],\n",
       "        [-0.05283472],\n",
       "        [-0.05632982],\n",
       "        [-0.05584039],\n",
       "        [-0.05544871],\n",
       "        [-0.0420458 ],\n",
       "        [-0.03670073],\n",
       "        [-0.03725073],\n",
       "        [-0.03755224],\n",
       "        [-0.03694438],\n",
       "        [-0.038207  ],\n",
       "        [-0.0254711 ],\n",
       "        [-0.02101595],\n",
       "        [-0.02194869],\n",
       "        [-0.02665523],\n",
       "        [-0.03205757],\n",
       "        [-0.03421181],\n",
       "        [-0.03466687],\n",
       "        [-0.03867339],\n",
       "        [-0.0297187 ],\n",
       "        [-0.02516494],\n",
       "        [-0.02690242],\n",
       "        [-0.03303244],\n",
       "        [-0.03675466],\n",
       "        [-0.04201082],\n",
       "        [-0.04669145],\n",
       "        [-0.05374218],\n",
       "        [-0.05232216],\n",
       "        [-0.05713913],\n",
       "        [-0.06038762],\n",
       "        [-0.06374194],\n",
       "        [-0.06604697],\n",
       "        [-0.06613947],\n",
       "        [-0.06270278],\n",
       "        [-0.05970939],\n",
       "        [-0.05180353],\n",
       "        [-0.05176042],\n",
       "        [-0.05151297],\n",
       "        [-0.05259243],\n",
       "        [-0.0511727 ],\n",
       "        [-0.04283866],\n",
       "        [-0.04388813],\n",
       "        [-0.03988472],\n",
       "        [-0.04243611],\n",
       "        [-0.04549056],\n",
       "        [-0.04116895],\n",
       "        [-0.0380505 ],\n",
       "        [-0.01951224],\n",
       "        [-0.02152755],\n",
       "        [-0.02448079],\n",
       "        [-0.0267094 ],\n",
       "        [-0.02865182],\n",
       "        [-0.03321177],\n",
       "        [-0.03979415],\n",
       "        [-0.04245171],\n",
       "        [-0.03892067],\n",
       "        [-0.04073651],\n",
       "        [-0.0411706 ],\n",
       "        [-0.04171496],\n",
       "        [-0.0335559 ],\n",
       "        [-0.03264388],\n",
       "        [-0.03279949],\n",
       "        [-0.03343887],\n",
       "        [-0.03160796],\n",
       "        [-0.0344413 ],\n",
       "        [-0.04052904],\n",
       "        [-0.03710369],\n",
       "        [-0.02783482],\n",
       "        [-0.03246406],\n",
       "        [-0.03837902],\n",
       "        [-0.04196678],\n",
       "        [-0.04332515],\n",
       "        [-0.04638605],\n",
       "        [-0.05158101],\n",
       "        [-0.05608585],\n",
       "        [-0.05935015],\n",
       "        [-0.06256816],\n",
       "        [-0.06224155],\n",
       "        [-0.06092436],\n",
       "        [-0.05882255],\n",
       "        [-0.05859186],\n",
       "        [-0.05045468],\n",
       "        [-0.04755185],\n",
       "        [-0.03658136],\n",
       "        [-0.02975952],\n",
       "        [-0.02276647],\n",
       "        [-0.01680735],\n",
       "        [-0.00988523],\n",
       "        [ 0.00896362],\n",
       "        [ 0.01739391],\n",
       "        [ 0.02160372],\n",
       "        [ 0.04782759],\n",
       "        [ 0.05201548],\n",
       "        [ 0.06734007],\n",
       "        [ 0.06857489],\n",
       "        [ 0.06917991],\n",
       "        [ 0.06053564],\n",
       "        [ 0.0598389 ],\n",
       "        [ 0.05875515],\n",
       "        [ 0.05795767],\n",
       "        [ 0.05311822],\n",
       "        [ 0.04340254],\n",
       "        [ 0.03316821],\n",
       "        [ 0.02645058]]], dtype=float32)"
      ]
     },
     "execution_count": 216,
     "metadata": {},
     "output_type": "execute_result"
    }
   ],
   "source": [
    "x_predict1"
   ]
  },
  {
   "cell_type": "code",
   "execution_count": 217,
   "metadata": {},
   "outputs": [],
   "source": [
    "x_predict1 = x_predict1.reshape(156,)\n",
    "x_predict2 = x_predict2.reshape(156,)"
   ]
  },
  {
   "cell_type": "code",
   "execution_count": 218,
   "metadata": {},
   "outputs": [
    {
     "data": {
      "text/plain": [
       "(156, 156)"
      ]
     },
     "execution_count": 218,
     "metadata": {},
     "output_type": "execute_result"
    }
   ],
   "source": [
    "len(x_predict1),len(x_predict2)"
   ]
  },
  {
   "cell_type": "code",
   "execution_count": 219,
   "metadata": {},
   "outputs": [],
   "source": [
    "x_predict1 = list(x_predict1)\n",
    "x_predict2 = list(x_predict2)"
   ]
  },
  {
   "cell_type": "code",
   "execution_count": 220,
   "metadata": {},
   "outputs": [
    {
     "data": {
      "text/plain": [
       "[-0.0050250976,\n",
       " -0.008609712,\n",
       " -0.008700587,\n",
       " -0.011220302,\n",
       " -0.0035712519,\n",
       " 0.003858028,\n",
       " 0.01038303,\n",
       " 0.012742493,\n",
       " 0.009304911,\n",
       " 0.010948056,\n",
       " 0.013307467,\n",
       " 0.017467143,\n",
       " 0.031721566,\n",
       " 0.02786608,\n",
       " 0.036533788,\n",
       " 0.033839535,\n",
       " 0.050284162,\n",
       " 0.043968648,\n",
       " 0.034977853,\n",
       " 0.04046759,\n",
       " 0.05350009,\n",
       " 0.06581978,\n",
       " 0.061100613,\n",
       " 0.051321108,\n",
       " 0.039346155,\n",
       " 0.03009582,\n",
       " 0.018385882,\n",
       " 0.007899294,\n",
       " 0.0015682827,\n",
       " -0.0044046417,\n",
       " -0.01063936,\n",
       " -0.019734211,\n",
       " -0.024514891,\n",
       " -0.02897857,\n",
       " -0.03499714,\n",
       " -0.03792147,\n",
       " -0.042736795,\n",
       " -0.043965258,\n",
       " -0.027350506,\n",
       " -0.024468834,\n",
       " -0.028330134,\n",
       " -0.03305272,\n",
       " -0.039233375,\n",
       " -0.041137524,\n",
       " -0.044975825,\n",
       " -0.045992166,\n",
       " -0.046609588,\n",
       " -0.049143966,\n",
       " -0.050195605,\n",
       " -0.049929697,\n",
       " -0.050026115,\n",
       " -0.0514066,\n",
       " -0.05034984,\n",
       " -0.052834716,\n",
       " -0.056329824,\n",
       " -0.05584039,\n",
       " -0.05544871,\n",
       " -0.0420458,\n",
       " -0.036700726,\n",
       " -0.03725073,\n",
       " -0.037552245,\n",
       " -0.03694438,\n",
       " -0.038207,\n",
       " -0.025471097,\n",
       " -0.021015953,\n",
       " -0.021948686,\n",
       " -0.026655234,\n",
       " -0.03205757,\n",
       " -0.034211814,\n",
       " -0.034666866,\n",
       " -0.03867339,\n",
       " -0.029718697,\n",
       " -0.025164936,\n",
       " -0.026902424,\n",
       " -0.03303244,\n",
       " -0.036754664,\n",
       " -0.04201082,\n",
       " -0.04669145,\n",
       " -0.05374218,\n",
       " -0.05232216,\n",
       " -0.057139132,\n",
       " -0.060387623,\n",
       " -0.063741945,\n",
       " -0.06604697,\n",
       " -0.066139475,\n",
       " -0.062702775,\n",
       " -0.059709392,\n",
       " -0.051803533,\n",
       " -0.051760416,\n",
       " -0.05151297,\n",
       " -0.052592434,\n",
       " -0.0511727,\n",
       " -0.04283866,\n",
       " -0.043888126,\n",
       " -0.039884716,\n",
       " -0.04243611,\n",
       " -0.04549056,\n",
       " -0.041168947,\n",
       " -0.038050503,\n",
       " -0.019512242,\n",
       " -0.021527547,\n",
       " -0.024480786,\n",
       " -0.026709402,\n",
       " -0.02865182,\n",
       " -0.033211768,\n",
       " -0.039794147,\n",
       " -0.04245171,\n",
       " -0.03892067,\n",
       " -0.04073651,\n",
       " -0.041170597,\n",
       " -0.04171496,\n",
       " -0.033555903,\n",
       " -0.032643884,\n",
       " -0.032799486,\n",
       " -0.033438865,\n",
       " -0.03160796,\n",
       " -0.0344413,\n",
       " -0.04052904,\n",
       " -0.037103694,\n",
       " -0.02783482,\n",
       " -0.032464057,\n",
       " -0.038379025,\n",
       " -0.041966785,\n",
       " -0.04332515,\n",
       " -0.046386052,\n",
       " -0.051581014,\n",
       " -0.056085847,\n",
       " -0.05935015,\n",
       " -0.06256816,\n",
       " -0.062241554,\n",
       " -0.06092436,\n",
       " -0.05882255,\n",
       " -0.058591858,\n",
       " -0.050454676,\n",
       " -0.047551848,\n",
       " -0.036581364,\n",
       " -0.02975952,\n",
       " -0.022766467,\n",
       " -0.016807346,\n",
       " -0.009885229,\n",
       " 0.00896362,\n",
       " 0.017393911,\n",
       " 0.02160372,\n",
       " 0.047827594,\n",
       " 0.052015483,\n",
       " 0.06734007,\n",
       " 0.06857489,\n",
       " 0.06917991,\n",
       " 0.060535643,\n",
       " 0.0598389,\n",
       " 0.05875515,\n",
       " 0.05795767,\n",
       " 0.053118218,\n",
       " 0.04340254,\n",
       " 0.033168208,\n",
       " 0.026450578]"
      ]
     },
     "execution_count": 220,
     "metadata": {},
     "output_type": "execute_result"
    }
   ],
   "source": [
    "x_predict1"
   ]
  },
  {
   "cell_type": "code",
   "execution_count": 160,
   "metadata": {},
   "outputs": [
    {
     "data": {
      "text/plain": [
       "88.83507266731212"
      ]
     },
     "execution_count": 160,
     "metadata": {},
     "output_type": "execute_result"
    }
   ],
   "source": [
    "df['Open'].mean()"
   ]
  },
  {
   "cell_type": "code",
   "execution_count": 161,
   "metadata": {},
   "outputs": [
    {
     "data": {
      "text/plain": [
       "68.0"
      ]
     },
     "execution_count": 161,
     "metadata": {},
     "output_type": "execute_result"
    }
   ],
   "source": [
    "(df['Open'].max() - df['Open'].min())"
   ]
  },
  {
   "cell_type": "code",
   "execution_count": 221,
   "metadata": {},
   "outputs": [],
   "source": [
    "#去正規化\n",
    "x_predict1_d = list(map(lambda x:(x*(df['Open'].max() - df['Open'].min()) + df['Open'].mean()),x_predict1))\n",
    "x_predict2_d = list(map(lambda x:(x*(df['Close'].max() - df['Close'].min()) + df['Close'].mean()),x_predict2))"
   ]
  },
  {
   "cell_type": "code",
   "execution_count": 222,
   "metadata": {},
   "outputs": [
    {
     "data": {
      "text/plain": [
       "[88.49336602815637,\n",
       " 88.2496122428889,\n",
       " 88.24343276114413,\n",
       " 88.07209210188338,\n",
       " 88.59222753995309,\n",
       " 89.09741856993386,\n",
       " 89.54111873449037,\n",
       " 89.70156221182296,\n",
       " 89.4678066083903,\n",
       " 89.5795404994602,\n",
       " 89.73998043031642,\n",
       " 90.02283839226911,\n",
       " 90.99213914663741,\n",
       " 90.72996613473842,\n",
       " 91.31937024087856,\n",
       " 91.13616104514549,\n",
       " 92.25439569444606,\n",
       " 91.82494071216533,\n",
       " 91.21356669158885,\n",
       " 91.58686879367778,\n",
       " 92.47307877333114,\n",
       " 93.31081754059741,\n",
       " 92.98991437346885,\n",
       " 92.32490800411651,\n",
       " 91.51061119229743,\n",
       " 90.88158838541457,\n",
       " 90.08531261326024,\n",
       " 89.37222463728139,\n",
       " 88.94171589237848,\n",
       " 88.53555703253696,\n",
       " 88.11159617544362,\n",
       " 87.49314630122134,\n",
       " 87.16806006522128,\n",
       " 86.86452994586179,\n",
       " 86.45526720673988,\n",
       " 86.25641273052642,\n",
       " 85.92897062094161,\n",
       " 85.84543514342258,\n",
       " 86.9752382719631,\n",
       " 87.17119198383043,\n",
       " 86.90862353981683,\n",
       " 86.5874876985068,\n",
       " 86.16720314414451,\n",
       " 86.03772103877017,\n",
       " 85.77671659083316,\n",
       " 85.70760539264629,\n",
       " 85.6656206855292,\n",
       " 85.49328295977065,\n",
       " 85.42177155704448,\n",
       " 85.43985326678703,\n",
       " 85.4332968452687,\n",
       " 85.33942389578769,\n",
       " 85.41128361315677,\n",
       " 85.24231200010726,\n",
       " 85.00464463324496,\n",
       " 85.03792603404472,\n",
       " 85.06456032485912,\n",
       " 85.97595839292953,\n",
       " 86.33942332954356,\n",
       " 86.30202294976661,\n",
       " 86.28152000994632,\n",
       " 86.32285495192954,\n",
       " 86.23699678571174,\n",
       " 87.10303808094213,\n",
       " 87.4059878447766,\n",
       " 87.34256202818105,\n",
       " 87.022516728353,\n",
       " 86.65515801401088,\n",
       " 86.50866928787181,\n",
       " 86.47772577495525,\n",
       " 86.20528216750571,\n",
       " 86.81420126647899,\n",
       " 87.12385703713844,\n",
       " 87.00570782364557,\n",
       " 86.58886677117297,\n",
       " 86.33575551302383,\n",
       " 85.97833681197116,\n",
       " 85.66005398423621,\n",
       " 85.18060432465026,\n",
       " 85.27716575653503,\n",
       " 84.94961167962501,\n",
       " 84.72871433289001,\n",
       " 84.50062042565295,\n",
       " 84.34387883634517,\n",
       " 84.33758840055415,\n",
       " 84.57128396720836,\n",
       " 84.77483397812793,\n",
       " 85.31243242413947,\n",
       " 85.31536434681365,\n",
       " 85.3321906039233,\n",
       " 85.25878715605685,\n",
       " 85.35532908232162,\n",
       " 85.92204384596297,\n",
       " 85.8506801286454,\n",
       " 86.12291196079204,\n",
       " 85.94941707045982,\n",
       " 85.74171464235732,\n",
       " 86.03558428676078,\n",
       " 86.24763849468181,\n",
       " 87.50824023128698,\n",
       " 87.37119944484184,\n",
       " 87.17037920744369,\n",
       " 87.01883333266923,\n",
       " 86.88674887360284,\n",
       " 86.57667246551463,\n",
       " 86.1290706703181,\n",
       " 85.9483564207072,\n",
       " 86.18846705646465,\n",
       " 86.06498989553401,\n",
       " 86.03547206611583,\n",
       " 85.99845546574542,\n",
       " 86.55327129454562,\n",
       " 86.61528852672527,\n",
       " 86.60470761449287,\n",
       " 86.56122984082648,\n",
       " 86.68573142678687,\n",
       " 86.49306428523013,\n",
       " 86.07909803183028,\n",
       " 86.31202147991607,\n",
       " 86.94230493248651,\n",
       " 86.6275167772288,\n",
       " 86.22529898674438,\n",
       " 85.9813313046212,\n",
       " 85.88896256775806,\n",
       " 85.68082113654563,\n",
       " 85.3275637188668,\n",
       " 85.02123504967639,\n",
       " 84.79926236064384,\n",
       " 84.58043792934367,\n",
       " 84.60264697761485,\n",
       " 84.69221627802798,\n",
       " 84.83513927550266,\n",
       " 84.85082635374019,\n",
       " 85.40415468902538,\n",
       " 85.60154700369785,\n",
       " 86.34753994734237,\n",
       " 86.81142526210496,\n",
       " 87.28695289881179,\n",
       " 87.69217316151807,\n",
       " 88.1628770837302,\n",
       " 89.44459884704301,\n",
       " 90.01785863281438,\n",
       " 90.30412564517209,\n",
       " 92.08734905810306,\n",
       " 92.37212553710887,\n",
       " 93.41419732661197,\n",
       " 93.49816522092769,\n",
       " 93.53930637330959,\n",
       " 92.95149640829513,\n",
       " 92.90411776394794,\n",
       " 92.83042274506042,\n",
       " 92.77619433493564,\n",
       " 92.44711147339294,\n",
       " 91.78644548447082,\n",
       " 91.09051080138633,\n",
       " 90.63371197969863]"
      ]
     },
     "execution_count": 222,
     "metadata": {},
     "output_type": "execute_result"
    }
   ],
   "source": [
    "x_predict1_d"
   ]
  },
  {
   "cell_type": "code",
   "execution_count": 223,
   "metadata": {},
   "outputs": [
    {
     "data": {
      "text/plain": [
       "[88.41340845264834,\n",
       " 88.32642443539305,\n",
       " 88.36948743889738,\n",
       " 88.54960559267471,\n",
       " 88.84906333738843,\n",
       " 89.29795163217639,\n",
       " 89.76632319750006,\n",
       " 90.26286682151503,\n",
       " 90.74546747567292,\n",
       " 91.108673346672,\n",
       " 91.54502139302959,\n",
       " 91.9881661258324,\n",
       " 92.4189281091159,\n",
       " 92.71682854564428,\n",
       " 93.0621013819228,\n",
       " 93.35170911769576,\n",
       " 93.74464085405488,\n",
       " 94.12136909689447,\n",
       " 94.448168624838,\n",
       " 94.70214936501772,\n",
       " 95.32935544467445,\n",
       " 95.94229752433615,\n",
       " 96.41153292421133,\n",
       " 96.94568879973953,\n",
       " 97.3972599149621,\n",
       " 97.6370587501108,\n",
       " 97.93037351726493,\n",
       " 98.2618580051135,\n",
       " 98.64414540828558,\n",
       " 98.9233415057188,\n",
       " 99.23957019765591,\n",
       " 99.45036233042312,\n",
       " 99.49711208424698,\n",
       " 99.59607201639211,\n",
       " 99.6945915201493,\n",
       " 99.86718397865413,\n",
       " 99.97516880988225,\n",
       " 100.00558832221851,\n",
       " 99.72244279138205,\n",
       " 99.6132820052642,\n",
       " 99.53595742430731,\n",
       " 99.53597739335261,\n",
       " 99.57833728538527,\n",
       " 99.64614883504079,\n",
       " 99.62780393876098,\n",
       " 99.46717737595488,\n",
       " 99.43461451942336,\n",
       " 99.37956429910425,\n",
       " 99.35615392166734,\n",
       " 99.2768690460971,\n",
       " 99.19058169197594,\n",
       " 99.16060926437605,\n",
       " 99.08048347012051,\n",
       " 99.08167273770711,\n",
       " 99.09361422679491,\n",
       " 99.21702847368944,\n",
       " 99.3732973470551,\n",
       " 99.65441047283686,\n",
       " 99.8269241645519,\n",
       " 99.97109068707597,\n",
       " 100.02464766656341,\n",
       " 99.94987024827334,\n",
       " 99.8511954297194,\n",
       " 99.54396723025435,\n",
       " 99.25863730774064,\n",
       " 99.12743735196297,\n",
       " 99.04113335697072,\n",
       " 99.01300806606083,\n",
       " 99.0043426097932,\n",
       " 99.10468040606385,\n",
       " 99.25459912302496,\n",
       " 99.51639108809015,\n",
       " 99.83578376431548,\n",
       " 100.13781224626338,\n",
       " 100.37868885516242,\n",
       " 100.50721628704447,\n",
       " 100.57072450743841,\n",
       " 100.72137209455288,\n",
       " 100.80573798275988,\n",
       " 100.87062628606215,\n",
       " 100.9341378346303,\n",
       " 100.98660428236623,\n",
       " 101.02978956160452,\n",
       " 101.0166144292739,\n",
       " 100.95724867638775,\n",
       " 100.80243421515458,\n",
       " 100.58142125936935,\n",
       " 100.40276153926835,\n",
       " 100.33826263234938,\n",
       " 100.41754639852822,\n",
       " 100.50023821510446,\n",
       " 100.63854382283377,\n",
       " 100.88554427229066,\n",
       " 101.03977408425318,\n",
       " 101.30958473039665,\n",
       " 101.5613577816796,\n",
       " 101.8239318676856,\n",
       " 102.33970235414769,\n",
       " 102.87932364643463,\n",
       " 103.42864545717045,\n",
       " 103.90407736274052,\n",
       " 104.30735556069432,\n",
       " 104.76283728062096,\n",
       " 105.11767612164046,\n",
       " 105.34743662865732,\n",
       " 105.59924628985665,\n",
       " 105.79456685008405,\n",
       " 105.85398363497485,\n",
       " 105.96308562334822,\n",
       " 106.13303440213396,\n",
       " 106.28335693756664,\n",
       " 106.55668102629103,\n",
       " 106.88628786918595,\n",
       " 107.3067904781001,\n",
       " 107.68695450612223,\n",
       " 107.91859321278845,\n",
       " 108.12186921878403,\n",
       " 108.25203189359765,\n",
       " 108.26651832656945,\n",
       " 108.42101217368646,\n",
       " 108.50785533290174,\n",
       " 108.55217773833057,\n",
       " 108.6670174990527,\n",
       " 108.67082493035606,\n",
       " 108.67816910145986,\n",
       " 108.72513185843356,\n",
       " 108.77676959078964,\n",
       " 108.8982834502067,\n",
       " 109.00298559226623,\n",
       " 109.2188576282788,\n",
       " 109.46231579097822,\n",
       " 109.83155897000553,\n",
       " 110.1839283057566,\n",
       " 110.59278563308818,\n",
       " 111.15710197805949,\n",
       " 111.8148756738051,\n",
       " 112.4722965830838,\n",
       " 113.03689249468927,\n",
       " 113.73056831509668,\n",
       " 114.24999646502239,\n",
       " 114.7227258931289,\n",
       " 115.11270581630608,\n",
       " 115.65621441607756,\n",
       " 116.13434214276278,\n",
       " 116.83226471347008,\n",
       " 117.10548119122815,\n",
       " 117.22645144885657,\n",
       " 117.13858321198269,\n",
       " 117.04275398238362,\n",
       " 116.76985922813311,\n",
       " 116.37700376243312,\n",
       " 116.16515437965656,\n",
       " 116.19962538940537,\n",
       " 116.23727369613927,\n",
       " 116.23739794797667,\n",
       " 116.32011638994665]"
      ]
     },
     "execution_count": 223,
     "metadata": {},
     "output_type": "execute_result"
    }
   ],
   "source": [
    "x_predict2_d"
   ]
  },
  {
   "cell_type": "code",
   "execution_count": 234,
   "metadata": {},
   "outputs": [
    {
     "data": {
      "image/png": "[encoded data removed]",
      "text/plain": [
       "<Figure size 432x288 with 1 Axes>"
      ]
     },
     "metadata": {
      "needs_background": "light"
     },
     "output_type": "display_data"
    }
   ],
   "source": [
    "#open\n",
    "plt.plot(x_predict1_d,label = 'Predicted Price')\n",
    "plt.plot(df['Open'].iloc[600:].values,label = 'Real Price')\n",
    "plt.xlabel('Time')\n",
    "plt.ylabel('Price')\n",
    "plt.legend()\n",
    "plt.show()"
   ]
  },
  {
   "cell_type": "code",
   "execution_count": 235,
   "metadata": {},
   "outputs": [
    {
     "data": {
      "text/plain": [
       "<matplotlib.legend.Legend at 0x1fbb4b97b08>"
      ]
     },
     "execution_count": 235,
     "metadata": {},
     "output_type": "execute_result"
    },
    {
     "data": {
      "image/png": "[encoded data removed]",
      "text/plain": [
       "<Figure size 432x288 with 1 Axes>"
      ]
     },
     "metadata": {
      "needs_background": "light"
     },
     "output_type": "display_data"
    }
   ],
   "source": [
    "#close\n",
    "plt.plot(x_predict2_d,label = 'Predicted Price')\n",
    "plt.plot(df['Close'].iloc[600:].values,label = 'Real Price')\n",
    "plt.xlabel('Time')\n",
    "plt.ylabel('Price')\n",
    "plt.legend()"
   ]
  },
  {
   "cell_type": "markdown",
   "metadata": {},
   "source": [
    "用前一天Close price預測股價較符合股價趨勢，但也非常不準確\n",
    "\n",
    "若以交易量預測是相當沒參考性，可考慮以超買超賣量來進行預測較佳\n",
    "\n",
    "簡單來說需要多學習模型參數如何調整與建置，輸入資料特性了解等"
   ]
  },
  {
   "cell_type": "code",
   "execution_count": null,
   "metadata": {},
   "outputs": [],
   "source": []
  }
 ],
 "metadata": {
  "kernelspec": {
   "display_name": "Python 3",
   "language": "python",
   "name": "python3"
  },
  "language_info": {
   "codemirror_mode": {
    "name": "ipython",
    "version": 3
   },
   "file_extension": ".py",
   "mimetype": "text/x-python",
   "name": "python",
   "nbconvert_exporter": "python",
   "pygments_lexer": "ipython3",
   "version": "3.7.6"
  }
 },
 "nbformat": 4,
 "nbformat_minor": 4
}
