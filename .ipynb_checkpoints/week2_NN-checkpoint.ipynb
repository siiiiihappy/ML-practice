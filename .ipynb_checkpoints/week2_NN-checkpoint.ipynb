{
 "cells": [
  {
   "cell_type": "markdown",
   "metadata": {},
   "source": [
    "**取回訓練好的神經網路**"
   ]
  },
  {
   "cell_type": "code",
   "execution_count": 2,
   "metadata": {},
   "outputs": [],
   "source": [
    "%matplotlib inline\n",
    "import numpy as np\n",
    "import matplotlib.pyplot as plt"
   ]
  },
  {
   "cell_type": "code",
   "execution_count": 3,
   "metadata": {},
   "outputs": [
    {
     "name": "stdout",
     "output_type": "stream",
     "text": [
      "env: KERAS_BACKEND=tensorflow\n"
     ]
    }
   ],
   "source": [
    "%env KERAS_BACKEND=tensorflow"
   ]
  },
  {
   "cell_type": "markdown",
   "metadata": {},
   "source": [
    "需要把結構和 weights 取回和再 compile 一次, 所以在 complie 中用到的 optimizer 等還是需要告訴 Keras"
   ]
  },
  {
   "cell_type": "code",
   "execution_count": 4,
   "metadata": {},
   "outputs": [],
   "source": [
    "from keras.models import model_from_json\n",
    "from keras.optimizers import SGD"
   ]
  },
  {
   "cell_type": "code",
   "execution_count": 5,
   "metadata": {},
   "outputs": [],
   "source": [
    "model = model_from_json(open('NN_handwriting.json').read())\n",
    "model.load_weights('NN_handwriting_weights.h5')"
   ]
  },
  {
   "cell_type": "code",
   "execution_count": 6,
   "metadata": {},
   "outputs": [],
   "source": [
    "model.compile(loss='mse', optimizer=SGD(lr=0.1))"
   ]
  },
  {
   "cell_type": "code",
   "execution_count": 157,
   "metadata": {},
   "outputs": [],
   "source": [
    "from keras.datasets import mnist #讀取手寫辨識資料\n",
    "(x_train, y_train), (x_test, y_test) = mnist.load_data()"
   ]
  },
  {
   "cell_type": "code",
   "execution_count": 160,
   "metadata": {},
   "outputs": [],
   "source": [
    "x_train = x_train.reshape(60000,784)\n",
    "x_test = x_test.reshape(10000, 784)"
   ]
  },
  {
   "cell_type": "code",
   "execution_count": 127,
   "metadata": {},
   "outputs": [],
   "source": [
    "x = x_test[4522] #試驗"
   ]
  },
  {
   "cell_type": "code",
   "execution_count": 128,
   "metadata": {
    "scrolled": true
   },
   "outputs": [
    {
     "data": {
      "text/plain": [
       "<matplotlib.image.AxesImage at 0x200bac74288>"
      ]
     },
     "execution_count": 128,
     "metadata": {},
     "output_type": "execute_result"
    },
    {
     "data": {
      "image/png": "[encoded data removed]",
      "text/plain": [
       "<Figure size 432x288 with 1 Axes>"
      ]
     },
     "metadata": {
      "needs_background": "light"
     },
     "output_type": "display_data"
    }
   ],
   "source": [
    "plt.imshow(x.reshape(28,28), cmap='Greys') #變回28x28矩陣，以圖形顯示"
   ]
  },
  {
   "cell_type": "code",
   "execution_count": 129,
   "metadata": {},
   "outputs": [
    {
     "data": {
      "text/plain": [
       "array([7], dtype=int64)"
      ]
     },
     "execution_count": 129,
     "metadata": {},
     "output_type": "execute_result"
    }
   ],
   "source": [
    "model.predict_classes(x.reshape(1,784)) #7"
   ]
  },
  {
   "cell_type": "markdown",
   "metadata": {},
   "source": [
    "**對神經網路進行改動**\n",
    "\n",
    "1.  更改神經網路的層數，\n",
    "2. 更改每一層裡的神經元個數。\n",
    "3. 更改activation function的種類（relu, leakyrelu, selu, ...)\n",
    "4. 更改optimizer (RMSProp, adam, ...)\n",
    "5. 更改 learning rate\n",
    "6. 你想改的任何東西，可參考keras官方文件：https://keras.io"
   ]
  },
  {
   "cell_type": "markdown",
   "metadata": {},
   "source": [
    "case1. \n",
    "\n",
    "1.使用2個hidden layers\n",
    "\n",
    "2.每個hidden layers用520個神經元\n",
    "\n",
    "3.Activation Function 指名 ReLU"
   ]
  },
  {
   "cell_type": "code",
   "execution_count": 130,
   "metadata": {},
   "outputs": [],
   "source": [
    "from keras.utils import np_utils"
   ]
  },
  {
   "cell_type": "code",
   "execution_count": 158,
   "metadata": {},
   "outputs": [],
   "source": [
    "y_train1 = np_utils.to_categorical(y_train, 10)\n",
    "y_test1 = np_utils.to_categorical(y_test, 10)"
   ]
  },
  {
   "cell_type": "code",
   "execution_count": 132,
   "metadata": {},
   "outputs": [],
   "source": [
    "from keras.models import Sequential\n",
    "from keras.layers import Dense, Activation\n",
    "from keras.optimizers import SGD"
   ]
  },
  {
   "cell_type": "code",
   "execution_count": 133,
   "metadata": {},
   "outputs": [],
   "source": [
    "from keras import layers"
   ]
  },
  {
   "cell_type": "markdown",
   "metadata": {},
   "source": [
    "model_1 = Sequential(\n",
    "    [\n",
    "        layers.Dense(520, input_dim = 784),\n",
    "        layers.Activation(\"relu\"),\n",
    "        layers.Dense(520),\n",
    "        layers.Activation(\"relu\")\n",
    "    ]\n",
    ")"
   ]
  },
  {
   "cell_type": "code",
   "execution_count": 142,
   "metadata": {},
   "outputs": [],
   "source": [
    "model_1 = Sequential()"
   ]
  },
  {
   "cell_type": "code",
   "execution_count": 144,
   "metadata": {},
   "outputs": [],
   "source": [
    "model_1.add(Dense(520,input_dim = 784)) \n",
    "model_1.add(Activation('relu'))"
   ]
  },
  {
   "cell_type": "code",
   "execution_count": 146,
   "metadata": {},
   "outputs": [],
   "source": [
    "model_1.add(Dense(520)) #第二層\n",
    "model_1.add(Activation('relu'))   "
   ]
  },
  {
   "cell_type": "code",
   "execution_count": 148,
   "metadata": {},
   "outputs": [],
   "source": [
    "model_1.add(Dense(10)) #輸出10個數字，10個神經元\n",
    "model_1.add(Activation('softmax')) #輸出值機率加總為1"
   ]
  },
  {
   "cell_type": "code",
   "execution_count": 150,
   "metadata": {},
   "outputs": [],
   "source": [
    "model_1.compile(loss='mse',optimizer = SGD(lr=0.1), metrics = ['accuracy'])"
   ]
  },
  {
   "cell_type": "code",
   "execution_count": 155,
   "metadata": {},
   "outputs": [
    {
     "name": "stdout",
     "output_type": "stream",
     "text": [
      "Model: \"sequential_10\"\n",
      "_________________________________________________________________\n",
      "Layer (type)                 Output Shape              Param #   \n",
      "=================================================================\n",
      "dense_28 (Dense)             (None, 520)               408200    \n",
      "_________________________________________________________________\n",
      "activation_26 (Activation)   (None, 520)               0         \n",
      "_________________________________________________________________\n",
      "dense_29 (Dense)             (None, 520)               270920    \n",
      "_________________________________________________________________\n",
      "activation_27 (Activation)   (None, 520)               0         \n",
      "_________________________________________________________________\n",
      "dense_30 (Dense)             (None, 10)                5210      \n",
      "_________________________________________________________________\n",
      "activation_28 (Activation)   (None, 10)                0         \n",
      "=================================================================\n",
      "Total params: 684,330\n",
      "Trainable params: 684,330\n",
      "Non-trainable params: 0\n",
      "_________________________________________________________________\n"
     ]
    }
   ],
   "source": [
    "model_1.summary()"
   ]
  },
  {
   "cell_type": "code",
   "execution_count": 107,
   "metadata": {},
   "outputs": [
    {
     "data": {
      "text/plain": [
       "408200"
      ]
     },
     "execution_count": 107,
     "metadata": {},
     "output_type": "execute_result"
    }
   ],
   "source": [
    "#408200 \n",
    "784*520+520"
   ]
  },
  {
   "cell_type": "code",
   "execution_count": 162,
   "metadata": {},
   "outputs": [
    {
     "name": "stdout",
     "output_type": "stream",
     "text": [
      "Epoch 1/15\n",
      "60000/60000 [==============================] - 6s 99us/step - loss: 0.1291 - accuracy: 0.3541\n",
      "Epoch 2/15\n",
      "60000/60000 [==============================] - 6s 97us/step - loss: 0.1283 - accuracy: 0.3583\n",
      "Epoch 3/15\n",
      "60000/60000 [==============================] - 6s 101us/step - loss: 0.1278 - accuracy: 0.3607\n",
      "Epoch 4/15\n",
      "60000/60000 [==============================] - 6s 96us/step - loss: 0.1294 - accuracy: 0.3525\n",
      "Epoch 5/15\n",
      "60000/60000 [==============================] - 5s 90us/step - loss: 0.1237 - accuracy: 0.3810\n",
      "Epoch 6/15\n",
      "60000/60000 [==============================] - 6s 98us/step - loss: 0.1139 - accuracy: 0.4299\n",
      "Epoch 7/15\n",
      "60000/60000 [==============================] - 6s 99us/step - loss: 0.1117 - accuracy: 0.4410\n",
      "Epoch 8/15\n",
      "60000/60000 [==============================] - 6s 96us/step - loss: 0.1143 - accuracy: 0.4282\n",
      "Epoch 9/15\n",
      "60000/60000 [==============================] - 5s 88us/step - loss: 0.1136 - accuracy: 0.4317\n",
      "Epoch 10/15\n",
      "60000/60000 [==============================] - 5s 91us/step - loss: 0.1107 - accuracy: 0.4460\n",
      "Epoch 11/15\n",
      "60000/60000 [==============================] - 6s 92us/step - loss: 0.1125 - accuracy: 0.4372\n",
      "Epoch 12/15\n",
      "60000/60000 [==============================] - 5s 87us/step - loss: 0.1138 - accuracy: 0.4309\n",
      "Epoch 13/15\n",
      "60000/60000 [==============================] - 5s 90us/step - loss: 0.1121 - accuracy: 0.4392\n",
      "Epoch 14/15\n",
      "60000/60000 [==============================] - 5s 87us/step - loss: 0.1094 - accuracy: 0.4530\n",
      "Epoch 15/15\n",
      "60000/60000 [==============================] - 6s 93us/step - loss: 0.1109 - accuracy: 0.4451\n"
     ]
    },
    {
     "data": {
      "text/plain": [
       "<keras.callbacks.callbacks.History at 0x200bac3c448>"
      ]
     },
     "execution_count": 162,
     "metadata": {},
     "output_type": "execute_result"
    }
   ],
   "source": [
    "model_1.fit(x_train, y_train1, batch_size=100, epochs = 15) #準確率不高"
   ]
  },
  {
   "cell_type": "code",
   "execution_count": 116,
   "metadata": {},
   "outputs": [],
   "source": [
    "predict = model_1.predict_classes(x_test)"
   ]
  },
  {
   "cell_type": "code",
   "execution_count": 117,
   "metadata": {},
   "outputs": [],
   "source": [
    "def test(測試編號):\n",
    "    plt.imshow(x_test[測試編號].reshape(28,28), cmap='viridis')\n",
    "    print(\"神經網路判斷為:\", predict[測試編號])"
   ]
  },
  {
   "cell_type": "code",
   "execution_count": 118,
   "metadata": {},
   "outputs": [],
   "source": [
    "from ipywidgets import interact_manual"
   ]
  },
  {
   "cell_type": "code",
   "execution_count": 119,
   "metadata": {},
   "outputs": [
    {
     "data": {
      "application/vnd.jupyter.widget-view+json": {
       "model_id": "a8db4840a643411ebf7b99667f9ad391",
       "version_major": 2,
       "version_minor": 0
      },
      "text/plain": [
       "interactive(children=(IntSlider(value=4999, description='測試編號', max=9999), Button(description='Run Interact', …"
      ]
     },
     "metadata": {},
     "output_type": "display_data"
    },
    {
     "data": {
      "text/plain": [
       "<function __main__.test(測試編號)>"
      ]
     },
     "execution_count": 119,
     "metadata": {},
     "output_type": "execute_result"
    }
   ],
   "source": [
    "interact_manual(test, 測試編號 = (0,9999))"
   ]
  },
  {
   "cell_type": "markdown",
   "metadata": {},
   "source": [
    "**Normalize 數據**\n",
    "\n",
    "每個輸入值都壓到 [0,1] 中的一個數\n",
    "，改善ReLU 在大於零的部份就是 $f(x) = x$ 這樣的函數, $x$ 越大, 值就越大, 甚至非常大。"
   ]
  },
  {
   "cell_type": "code",
   "execution_count": 163,
   "metadata": {},
   "outputs": [],
   "source": [
    "x_train1 = x_train/255\n",
    "x_test1 = x_test/255"
   ]
  },
  {
   "cell_type": "code",
   "execution_count": 164,
   "metadata": {},
   "outputs": [
    {
     "name": "stdout",
     "output_type": "stream",
     "text": [
      "Epoch 1/15\n",
      "60000/60000 [==============================] - 6s 92us/step - loss: 0.0628 - accuracy: 0.5827\n",
      "Epoch 2/15\n",
      "60000/60000 [==============================] - 6s 100us/step - loss: 0.0304 - accuracy: 0.8152\n",
      "Epoch 3/15\n",
      "60000/60000 [==============================] - 7s 117us/step - loss: 0.0223 - accuracy: 0.8594\n",
      "Epoch 4/15\n",
      "60000/60000 [==============================] - 7s 121us/step - loss: 0.0186 - accuracy: 0.8817\n",
      "Epoch 5/15\n",
      "60000/60000 [==============================] - 7s 113us/step - loss: 0.0163 - accuracy: 0.8970\n",
      "Epoch 6/15\n",
      "60000/60000 [==============================] - 6s 105us/step - loss: 0.0148 - accuracy: 0.9069\n",
      "Epoch 7/15\n",
      "60000/60000 [==============================] - 6s 103us/step - loss: 0.0136 - accuracy: 0.9138\n",
      "Epoch 8/15\n",
      "60000/60000 [==============================] - 7s 114us/step - loss: 0.0128 - accuracy: 0.9189\n",
      "Epoch 9/15\n",
      "60000/60000 [==============================] - 6s 103us/step - loss: 0.0121 - accuracy: 0.9233\n",
      "Epoch 10/15\n",
      "60000/60000 [==============================] - 7s 111us/step - loss: 0.0115 - accuracy: 0.9266\n",
      "Epoch 11/15\n",
      "60000/60000 [==============================] - 6s 99us/step - loss: 0.0110 - accuracy: 0.9305\n",
      "Epoch 12/15\n",
      "60000/60000 [==============================] - 6s 98us/step - loss: 0.0106 - accuracy: 0.9334\n",
      "Epoch 13/15\n",
      "60000/60000 [==============================] - 6s 105us/step - loss: 0.0102 - accuracy: 0.9360\n",
      "Epoch 14/15\n",
      "60000/60000 [==============================] - 6s 99us/step - loss: 0.0099 - accuracy: 0.9380\n",
      "Epoch 15/15\n",
      "60000/60000 [==============================] - 6s 101us/step - loss: 0.0096 - accuracy: 0.9403\n"
     ]
    },
    {
     "data": {
      "text/plain": [
       "<keras.callbacks.callbacks.History at 0x200babe80c8>"
      ]
     },
     "execution_count": 164,
     "metadata": {},
     "output_type": "execute_result"
    }
   ],
   "source": [
    "model_1.fit(x_train1, y_train1, batch_size=100, epochs = 15) #運用標準化資料訓練，準確率顯著提升"
   ]
  },
  {
   "cell_type": "code",
   "execution_count": 170,
   "metadata": {},
   "outputs": [],
   "source": [
    "predict1 = model_1.predict_classes(x_test1)"
   ]
  },
  {
   "cell_type": "code",
   "execution_count": 171,
   "metadata": {},
   "outputs": [],
   "source": [
    "def test1(測試編號):\n",
    "    plt.imshow(x_test1[測試編號].reshape(28,28), cmap='viridis')\n",
    "    print(\"神經網路判斷為:\", predict1[測試編號])"
   ]
  },
  {
   "cell_type": "code",
   "execution_count": 172,
   "metadata": {},
   "outputs": [
    {
     "data": {
      "application/vnd.jupyter.widget-view+json": {
       "model_id": "cdd58048e285480ea6b1859828ddbc2d",
       "version_major": 2,
       "version_minor": 0
      },
      "text/plain": [
       "interactive(children=(IntSlider(value=4999, description='測試編號', max=9999), Button(description='Run Interact', …"
      ]
     },
     "metadata": {},
     "output_type": "display_data"
    },
    {
     "data": {
      "text/plain": [
       "<function __main__.test1(測試編號)>"
      ]
     },
     "execution_count": 172,
     "metadata": {},
     "output_type": "execute_result"
    }
   ],
   "source": [
    "interact_manual(test1, 測試編號 = (0,9999)) #"
   ]
  },
  {
   "cell_type": "code",
   "execution_count": null,
   "metadata": {},
   "outputs": [],
   "source": [
    "model_2 = Sequential\n",
    "        ( [ layers.Dense(520, input_dim = 784), \n",
    "           layers.Activation(\"relu\"), \n",
    "           layers.Dense(520), \n",
    "           layers.Activation(\"relu\") ] )"
   ]
  }
 ],
 "metadata": {
  "kernelspec": {
   "display_name": "Python 3",
   "language": "python",
   "name": "python3"
  },
  "language_info": {
   "codemirror_mode": {
    "name": "ipython",
    "version": 3
   },
   "file_extension": ".py",
   "mimetype": "text/x-python",
   "name": "python",
   "nbconvert_exporter": "python",
   "pygments_lexer": "ipython3",
   "version": "3.7.6"
  }
 },
 "nbformat": 4,
 "nbformat_minor": 4
}
