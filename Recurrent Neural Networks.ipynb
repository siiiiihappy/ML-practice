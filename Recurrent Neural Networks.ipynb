{
 "cells": [
  {
   "cell_type": "markdown",
   "metadata": {},
   "source": [
    "**IMDB電影文本情緒分析**\n",
    "\n",
    "RNN 有不少的變型, 例如 LSTM 和 GRU 等等，\n",
    "且是一種「有記憶」的神經網路, 適合時間序列, 或是不定長度的輸入資料"
   ]
  },
  {
   "cell_type": "code",
   "execution_count": 1,
   "metadata": {},
   "outputs": [
    {
     "name": "stdout",
     "output_type": "stream",
     "text": [
      "env: KERAS_BACKEND=tensorflow\n"
     ]
    }
   ],
   "source": [
    "%env KERAS_BACKEND=tensorflow"
   ]
  },
  {
   "cell_type": "code",
   "execution_count": 2,
   "metadata": {},
   "outputs": [],
   "source": [
    "%matplotlib inline\n",
    "import numpy as np\n",
    "import matplotlib.pyplot as plt"
   ]
  },
  {
   "cell_type": "code",
   "execution_count": 3,
   "metadata": {},
   "outputs": [
    {
     "name": "stderr",
     "output_type": "stream",
     "text": [
      "Using TensorFlow backend.\n",
      "C:\\Users\\USER\\anaconda3\\lib\\site-packages\\tensorflow\\python\\framework\\dtypes.py:516: FutureWarning: Passing (type, 1) or '1type' as a synonym of type is deprecated; in a future version of numpy, it will be understood as (type, (1,)) / '(1,)type'.\n",
      "  _np_qint8 = np.dtype([(\"qint8\", np.int8, 1)])\n",
      "C:\\Users\\USER\\anaconda3\\lib\\site-packages\\tensorflow\\python\\framework\\dtypes.py:517: FutureWarning: Passing (type, 1) or '1type' as a synonym of type is deprecated; in a future version of numpy, it will be understood as (type, (1,)) / '(1,)type'.\n",
      "  _np_quint8 = np.dtype([(\"quint8\", np.uint8, 1)])\n",
      "C:\\Users\\USER\\anaconda3\\lib\\site-packages\\tensorflow\\python\\framework\\dtypes.py:518: FutureWarning: Passing (type, 1) or '1type' as a synonym of type is deprecated; in a future version of numpy, it will be understood as (type, (1,)) / '(1,)type'.\n",
      "  _np_qint16 = np.dtype([(\"qint16\", np.int16, 1)])\n",
      "C:\\Users\\USER\\anaconda3\\lib\\site-packages\\tensorflow\\python\\framework\\dtypes.py:519: FutureWarning: Passing (type, 1) or '1type' as a synonym of type is deprecated; in a future version of numpy, it will be understood as (type, (1,)) / '(1,)type'.\n",
      "  _np_quint16 = np.dtype([(\"quint16\", np.uint16, 1)])\n",
      "C:\\Users\\USER\\anaconda3\\lib\\site-packages\\tensorflow\\python\\framework\\dtypes.py:520: FutureWarning: Passing (type, 1) or '1type' as a synonym of type is deprecated; in a future version of numpy, it will be understood as (type, (1,)) / '(1,)type'.\n",
      "  _np_qint32 = np.dtype([(\"qint32\", np.int32, 1)])\n",
      "C:\\Users\\USER\\anaconda3\\lib\\site-packages\\tensorflow\\python\\framework\\dtypes.py:525: FutureWarning: Passing (type, 1) or '1type' as a synonym of type is deprecated; in a future version of numpy, it will be understood as (type, (1,)) / '(1,)type'.\n",
      "  np_resource = np.dtype([(\"resource\", np.ubyte, 1)])\n",
      "C:\\Users\\USER\\anaconda3\\lib\\site-packages\\tensorboard\\compat\\tensorflow_stub\\dtypes.py:541: FutureWarning: Passing (type, 1) or '1type' as a synonym of type is deprecated; in a future version of numpy, it will be understood as (type, (1,)) / '(1,)type'.\n",
      "  _np_qint8 = np.dtype([(\"qint8\", np.int8, 1)])\n",
      "C:\\Users\\USER\\anaconda3\\lib\\site-packages\\tensorboard\\compat\\tensorflow_stub\\dtypes.py:542: FutureWarning: Passing (type, 1) or '1type' as a synonym of type is deprecated; in a future version of numpy, it will be understood as (type, (1,)) / '(1,)type'.\n",
      "  _np_quint8 = np.dtype([(\"quint8\", np.uint8, 1)])\n",
      "C:\\Users\\USER\\anaconda3\\lib\\site-packages\\tensorboard\\compat\\tensorflow_stub\\dtypes.py:543: FutureWarning: Passing (type, 1) or '1type' as a synonym of type is deprecated; in a future version of numpy, it will be understood as (type, (1,)) / '(1,)type'.\n",
      "  _np_qint16 = np.dtype([(\"qint16\", np.int16, 1)])\n",
      "C:\\Users\\USER\\anaconda3\\lib\\site-packages\\tensorboard\\compat\\tensorflow_stub\\dtypes.py:544: FutureWarning: Passing (type, 1) or '1type' as a synonym of type is deprecated; in a future version of numpy, it will be understood as (type, (1,)) / '(1,)type'.\n",
      "  _np_quint16 = np.dtype([(\"quint16\", np.uint16, 1)])\n",
      "C:\\Users\\USER\\anaconda3\\lib\\site-packages\\tensorboard\\compat\\tensorflow_stub\\dtypes.py:545: FutureWarning: Passing (type, 1) or '1type' as a synonym of type is deprecated; in a future version of numpy, it will be understood as (type, (1,)) / '(1,)type'.\n",
      "  _np_qint32 = np.dtype([(\"qint32\", np.int32, 1)])\n",
      "C:\\Users\\USER\\anaconda3\\lib\\site-packages\\tensorboard\\compat\\tensorflow_stub\\dtypes.py:550: FutureWarning: Passing (type, 1) or '1type' as a synonym of type is deprecated; in a future version of numpy, it will be understood as (type, (1,)) / '(1,)type'.\n",
      "  np_resource = np.dtype([(\"resource\", np.ubyte, 1)])\n"
     ]
    }
   ],
   "source": [
    "from keras.datasets import imdb"
   ]
  },
  {
   "cell_type": "code",
   "execution_count": 4,
   "metadata": {},
   "outputs": [
    {
     "name": "stdout",
     "output_type": "stream",
     "text": [
      "Downloading data from https://s3.amazonaws.com/text-datasets/imdb.npz\n",
      "17465344/17464789 [==============================] - 145s 8us/step\n"
     ]
    }
   ],
   "source": [
    "(x_train, y_train), (x_test, y_test) = imdb.load_data(num_words=10000) #讀入最常出現的一萬字"
   ]
  },
  {
   "cell_type": "code",
   "execution_count": 5,
   "metadata": {},
   "outputs": [
    {
     "data": {
      "text/plain": [
       "25000"
      ]
     },
     "execution_count": 5,
     "metadata": {},
     "output_type": "execute_result"
    }
   ],
   "source": [
    "len(x_train)"
   ]
  },
  {
   "cell_type": "code",
   "execution_count": 6,
   "metadata": {},
   "outputs": [
    {
     "data": {
      "text/plain": [
       "25000"
      ]
     },
     "execution_count": 6,
     "metadata": {},
     "output_type": "execute_result"
    }
   ],
   "source": [
    "len(x_test)"
   ]
  },
  {
   "cell_type": "code",
   "execution_count": 7,
   "metadata": {},
   "outputs": [
    {
     "data": {
      "text/plain": [
       "[1,\n",
       " 2,\n",
       " 47,\n",
       " 1678,\n",
       " 72,\n",
       " 19,\n",
       " 61,\n",
       " 205,\n",
       " 2,\n",
       " 5,\n",
       " 2,\n",
       " 146,\n",
       " 6,\n",
       " 655,\n",
       " 2212,\n",
       " 1021,\n",
       " 336,\n",
       " 7,\n",
       " 107,\n",
       " 146,\n",
       " 179,\n",
       " 2,\n",
       " 11,\n",
       " 61,\n",
       " 965,\n",
       " 5,\n",
       " 1624,\n",
       " 113,\n",
       " 131,\n",
       " 13,\n",
       " 28,\n",
       " 1460,\n",
       " 39,\n",
       " 61,\n",
       " 501,\n",
       " 15,\n",
       " 13,\n",
       " 361,\n",
       " 2,\n",
       " 8,\n",
       " 2,\n",
       " 5,\n",
       " 1341,\n",
       " 39,\n",
       " 63,\n",
       " 13,\n",
       " 244,\n",
       " 1364,\n",
       " 9026,\n",
       " 54,\n",
       " 134,\n",
       " 2,\n",
       " 5,\n",
       " 68,\n",
       " 2166,\n",
       " 1497,\n",
       " 68,\n",
       " 456,\n",
       " 19,\n",
       " 72,\n",
       " 36,\n",
       " 339,\n",
       " 72,\n",
       " 8,\n",
       " 4392,\n",
       " 61,\n",
       " 113,\n",
       " 5,\n",
       " 61,\n",
       " 649,\n",
       " 19,\n",
       " 61,\n",
       " 223,\n",
       " 10,\n",
       " 10,\n",
       " 4,\n",
       " 123,\n",
       " 1025,\n",
       " 111,\n",
       " 409,\n",
       " 2,\n",
       " 83,\n",
       " 4,\n",
       " 501,\n",
       " 7,\n",
       " 4,\n",
       " 6176,\n",
       " 5,\n",
       " 2672,\n",
       " 687,\n",
       " 15,\n",
       " 242,\n",
       " 2164,\n",
       " 68,\n",
       " 6644,\n",
       " 111,\n",
       " 7,\n",
       " 178,\n",
       " 2712,\n",
       " 88,\n",
       " 45,\n",
       " 99,\n",
       " 629,\n",
       " 8,\n",
       " 140,\n",
       " 145,\n",
       " 5,\n",
       " 81,\n",
       " 17,\n",
       " 2676,\n",
       " 3088,\n",
       " 560,\n",
       " 4,\n",
       " 3808,\n",
       " 5,\n",
       " 921,\n",
       " 5607,\n",
       " 7,\n",
       " 4,\n",
       " 882,\n",
       " 11,\n",
       " 4,\n",
       " 2267,\n",
       " 5,\n",
       " 955,\n",
       " 479,\n",
       " 7,\n",
       " 263,\n",
       " 1548,\n",
       " 4,\n",
       " 123,\n",
       " 1015,\n",
       " 6,\n",
       " 176,\n",
       " 7,\n",
       " 1109,\n",
       " 18,\n",
       " 33,\n",
       " 222,\n",
       " 397,\n",
       " 14,\n",
       " 1773,\n",
       " 645,\n",
       " 14,\n",
       " 7847,\n",
       " 9,\n",
       " 1350,\n",
       " 5,\n",
       " 878,\n",
       " 21,\n",
       " 290,\n",
       " 12,\n",
       " 38,\n",
       " 76,\n",
       " 9029,\n",
       " 7,\n",
       " 6644,\n",
       " 2615,\n",
       " 5,\n",
       " 701,\n",
       " 2615,\n",
       " 186,\n",
       " 8,\n",
       " 2754,\n",
       " 4,\n",
       " 5029,\n",
       " 1341,\n",
       " 400,\n",
       " 45,\n",
       " 5015,\n",
       " 15,\n",
       " 4,\n",
       " 6176,\n",
       " 43,\n",
       " 31,\n",
       " 251,\n",
       " 645,\n",
       " 8,\n",
       " 1258,\n",
       " 56,\n",
       " 42,\n",
       " 845,\n",
       " 18,\n",
       " 253,\n",
       " 42,\n",
       " 1742,\n",
       " 42,\n",
       " 532,\n",
       " 602,\n",
       " 5,\n",
       " 150,\n",
       " 36,\n",
       " 191,\n",
       " 570,\n",
       " 24,\n",
       " 38,\n",
       " 2,\n",
       " 26,\n",
       " 44,\n",
       " 880,\n",
       " 1460,\n",
       " 13,\n",
       " 70,\n",
       " 2198,\n",
       " 8,\n",
       " 4,\n",
       " 275,\n",
       " 687,\n",
       " 5,\n",
       " 2,\n",
       " 11,\n",
       " 2851,\n",
       " 456,\n",
       " 50,\n",
       " 26,\n",
       " 1141,\n",
       " 1326,\n",
       " 5,\n",
       " 1767,\n",
       " 5630,\n",
       " 111,\n",
       " 2,\n",
       " 28,\n",
       " 3117,\n",
       " 4309,\n",
       " 2569,\n",
       " 49,\n",
       " 362,\n",
       " 331,\n",
       " 8261,\n",
       " 913,\n",
       " 8,\n",
       " 4313,\n",
       " 8,\n",
       " 148,\n",
       " 37,\n",
       " 104,\n",
       " 15,\n",
       " 6644,\n",
       " 9,\n",
       " 35,\n",
       " 120,\n",
       " 2097,\n",
       " 8,\n",
       " 6,\n",
       " 2,\n",
       " 13,\n",
       " 62,\n",
       " 43,\n",
       " 135,\n",
       " 15,\n",
       " 275,\n",
       " 84,\n",
       " 8261,\n",
       " 5897,\n",
       " 261,\n",
       " 49,\n",
       " 362,\n",
       " 2885,\n",
       " 4313,\n",
       " 73,\n",
       " 409,\n",
       " 40,\n",
       " 2,\n",
       " 11,\n",
       " 4,\n",
       " 123,\n",
       " 8307,\n",
       " 11,\n",
       " 6,\n",
       " 7961,\n",
       " 23,\n",
       " 4,\n",
       " 1873,\n",
       " 5,\n",
       " 28,\n",
       " 68,\n",
       " 456,\n",
       " 1437,\n",
       " 1194,\n",
       " 34,\n",
       " 4,\n",
       " 1494,\n",
       " 10,\n",
       " 10,\n",
       " 18,\n",
       " 463,\n",
       " 236,\n",
       " 2,\n",
       " 2,\n",
       " 301,\n",
       " 15,\n",
       " 184,\n",
       " 185,\n",
       " 2,\n",
       " 4846,\n",
       " 2,\n",
       " 39,\n",
       " 349,\n",
       " 59,\n",
       " 2,\n",
       " 18,\n",
       " 2208,\n",
       " 18,\n",
       " 6,\n",
       " 5451,\n",
       " 291,\n",
       " 154,\n",
       " 3608,\n",
       " 5,\n",
       " 1625,\n",
       " 349,\n",
       " 2569,\n",
       " 41,\n",
       " 481,\n",
       " 1081,\n",
       " 8,\n",
       " 259,\n",
       " 4,\n",
       " 201,\n",
       " 9,\n",
       " 1061,\n",
       " 19,\n",
       " 1618,\n",
       " 15,\n",
       " 75,\n",
       " 70,\n",
       " 361,\n",
       " 8,\n",
       " 391,\n",
       " 263,\n",
       " 205,\n",
       " 4484,\n",
       " 5,\n",
       " 97,\n",
       " 2,\n",
       " 8,\n",
       " 263,\n",
       " 456,\n",
       " 400,\n",
       " 45,\n",
       " 148,\n",
       " 7,\n",
       " 178,\n",
       " 19,\n",
       " 4139,\n",
       " 1341,\n",
       " 37,\n",
       " 2712,\n",
       " 4,\n",
       " 6309,\n",
       " 17,\n",
       " 36,\n",
       " 135,\n",
       " 60,\n",
       " 6,\n",
       " 2230,\n",
       " 106,\n",
       " 9,\n",
       " 208,\n",
       " 1453,\n",
       " 6,\n",
       " 251,\n",
       " 21,\n",
       " 6,\n",
       " 550,\n",
       " 106,\n",
       " 70,\n",
       " 140,\n",
       " 2,\n",
       " 18,\n",
       " 179,\n",
       " 6,\n",
       " 137,\n",
       " 366,\n",
       " 45,\n",
       " 93,\n",
       " 129,\n",
       " 113,\n",
       " 4309,\n",
       " 10,\n",
       " 10,\n",
       " 8,\n",
       " 4,\n",
       " 1180,\n",
       " 1294,\n",
       " 25,\n",
       " 18,\n",
       " 231,\n",
       " 4,\n",
       " 123,\n",
       " 18,\n",
       " 7847,\n",
       " 83,\n",
       " 4,\n",
       " 501,\n",
       " 18,\n",
       " 4,\n",
       " 794,\n",
       " 1969,\n",
       " 82,\n",
       " 4,\n",
       " 2876,\n",
       " 4,\n",
       " 2718,\n",
       " 5,\n",
       " 4,\n",
       " 756,\n",
       " 228,\n",
       " 26,\n",
       " 530,\n",
       " 10,\n",
       " 10,\n",
       " 8,\n",
       " 4,\n",
       " 2,\n",
       " 1294,\n",
       " 25,\n",
       " 18,\n",
       " 129,\n",
       " 3158,\n",
       " 8,\n",
       " 1497,\n",
       " 726,\n",
       " 42,\n",
       " 24,\n",
       " 25,\n",
       " 28,\n",
       " 1678,\n",
       " 624,\n",
       " 25,\n",
       " 28,\n",
       " 1678,\n",
       " 72]"
      ]
     },
     "execution_count": 7,
     "metadata": {},
     "output_type": "execute_result"
    }
   ],
   "source": [
    "x_train[999]"
   ]
  },
  {
   "cell_type": "code",
   "execution_count": 11,
   "metadata": {},
   "outputs": [
    {
     "name": "stdout",
     "output_type": "stream",
     "text": [
      "218,189,141,550,147,43,123,562,233,130,"
     ]
    }
   ],
   "source": [
    "for i in range(10):\n",
    "    print(len(x_train[i]), end =',')"
   ]
  },
  {
   "cell_type": "code",
   "execution_count": 12,
   "metadata": {},
   "outputs": [
    {
     "data": {
      "text/plain": [
       "array([1, 0, 0, 1, 0, 0, 1, 0, 1, 0], dtype=int64)"
      ]
     },
     "execution_count": 12,
     "metadata": {},
     "output_type": "execute_result"
    }
   ],
   "source": [
    "y_train[:10] #1是正評,0是負評"
   ]
  },
  {
   "cell_type": "markdown",
   "metadata": {},
   "source": [
    "**1.送入神經網路的輸入處理**\n",
    "雖然 RNN 是可以處理不同長度的輸入, 在寫程式時還是要\n",
    "\n",
    "設輸入文字長度的上限\n",
    "把每段文字都弄成一樣長, 太短的後面補上 0"
   ]
  },
  {
   "cell_type": "code",
   "execution_count": 15,
   "metadata": {},
   "outputs": [],
   "source": [
    "from keras.preprocessing import sequence"
   ]
  },
  {
   "cell_type": "code",
   "execution_count": 16,
   "metadata": {},
   "outputs": [],
   "source": [
    "x_train = sequence.pad_sequences(x_train, maxlen=100) #只取前100字判斷情緒\n",
    "x_test = sequence.pad_sequences(x_test, maxlen=100)"
   ]
  },
  {
   "cell_type": "code",
   "execution_count": 18,
   "metadata": {},
   "outputs": [
    {
     "data": {
      "text/plain": [
       "(25000, 100)"
      ]
     },
     "execution_count": 18,
     "metadata": {},
     "output_type": "execute_result"
    }
   ],
   "source": [
    "x_train.shape #長度都100"
   ]
  },
  {
   "cell_type": "markdown",
   "metadata": {},
   "source": [
    "**2.建構RNN神經網路**\n",
    "這裡選用 LSTM\n",
    "\n",
    "1.先將 10000 維的文字壓到 128 維 (影評會依出現頻率大小，分別給予1-10000的標籤，故一個字有10000維，現在要embedded成128維)\n",
    "\n",
    "2.然後用 150 個 LSTM\n",
    "\n",
    "3.最後一個 output, 直接用 sigmoid 送出(在0-1之間)"
   ]
  },
  {
   "cell_type": "code",
   "execution_count": 19,
   "metadata": {},
   "outputs": [],
   "source": [
    "from keras.models import Sequential\n",
    "from keras.layers import Dense, Embedding\n",
    "from keras.layers import LSTM"
   ]
  },
  {
   "cell_type": "code",
   "execution_count": 20,
   "metadata": {},
   "outputs": [],
   "source": [
    "model = Sequential()"
   ]
  },
  {
   "cell_type": "code",
   "execution_count": 21,
   "metadata": {},
   "outputs": [],
   "source": [
    "model.add(Embedding(10000,128)) #10000維 ->128維，Embedding可將離散資料變連續"
   ]
  },
  {
   "cell_type": "code",
   "execution_count": 22,
   "metadata": {},
   "outputs": [],
   "source": [
    "model.add(LSTM(150))"
   ]
  },
  {
   "cell_type": "code",
   "execution_count": 23,
   "metadata": {},
   "outputs": [],
   "source": [
    "model.add(Dense(1 ,activation='sigmoid'))"
   ]
  },
  {
   "cell_type": "code",
   "execution_count": 24,
   "metadata": {},
   "outputs": [
    {
     "name": "stdout",
     "output_type": "stream",
     "text": [
      "Model: \"sequential_1\"\n",
      "_________________________________________________________________\n",
      "Layer (type)                 Output Shape              Param #   \n",
      "=================================================================\n",
      "embedding_1 (Embedding)      (None, None, 128)         1280000   \n",
      "_________________________________________________________________\n",
      "lstm_1 (LSTM)                (None, 150)               167400    \n",
      "_________________________________________________________________\n",
      "dense_1 (Dense)              (None, 1)                 151       \n",
      "=================================================================\n",
      "Total params: 1,447,551\n",
      "Trainable params: 1,447,551\n",
      "Non-trainable params: 0\n",
      "_________________________________________________________________\n"
     ]
    }
   ],
   "source": [
    "model.summary()"
   ]
  },
  {
   "cell_type": "code",
   "execution_count": 28,
   "metadata": {},
   "outputs": [
    {
     "data": {
      "text/plain": [
       "125550"
      ]
     },
     "execution_count": 28,
     "metadata": {},
     "output_type": "execute_result"
    }
   ],
   "source": [
    "#1是bias\n",
    "3*(128+150+1)*150 "
   ]
  },
  {
   "cell_type": "code",
   "execution_count": 29,
   "metadata": {},
   "outputs": [
    {
     "data": {
      "text/plain": [
       "41850"
      ]
     },
     "execution_count": 29,
     "metadata": {},
     "output_type": "execute_result"
    }
   ],
   "source": [
    "(128+150+1)*150"
   ]
  },
  {
   "cell_type": "code",
   "execution_count": 30,
   "metadata": {},
   "outputs": [
    {
     "data": {
      "text/plain": [
       "167400"
      ]
     },
     "execution_count": 30,
     "metadata": {},
     "output_type": "execute_result"
    }
   ],
   "source": [
    "125550+41850"
   ]
  },
  {
   "cell_type": "code",
   "execution_count": 32,
   "metadata": {},
   "outputs": [],
   "source": [
    "model.compile(loss = 'binary_crossentropy',\n",
    "              optimizer='adam', \n",
    "              metrics=['accuracy']) #組裝"
   ]
  },
  {
   "cell_type": "code",
   "execution_count": 33,
   "metadata": {},
   "outputs": [
    {
     "name": "stdout",
     "output_type": "stream",
     "text": [
      "WARNING:tensorflow:From C:\\Users\\USER\\anaconda3\\lib\\site-packages\\keras\\backend\\tensorflow_backend.py:422: The name tf.global_variables is deprecated. Please use tf.compat.v1.global_variables instead.\n",
      "\n",
      "Epoch 1/15\n",
      "25000/25000 [==============================] - 134s 5ms/step - loss: 0.4145 - accuracy: 0.8098\n",
      "Epoch 2/15\n",
      "25000/25000 [==============================] - 131s 5ms/step - loss: 0.2708 - accuracy: 0.8908\n",
      "Epoch 3/15\n",
      "25000/25000 [==============================] - ETA: 0s - loss: 0.1894 - accuracy: 0.92 - 136s 5ms/step - loss: 0.1894 - accuracy: 0.9257\n",
      "Epoch 4/15\n",
      "25000/25000 [==============================] - 140s 6ms/step - loss: 0.1359 - accuracy: 0.9490\n",
      "Epoch 5/15\n",
      "25000/25000 [==============================] - 132s 5ms/step - loss: 0.0995 - accuracy: 0.9647\n",
      "Epoch 6/15\n",
      "25000/25000 [==============================] - 130s 5ms/step - loss: 0.0734 - accuracy: 0.9750\n",
      "Epoch 7/15\n",
      "25000/25000 [==============================] - 111s 4ms/step - loss: 0.0584 - accuracy: 0.9810\n",
      "Epoch 8/15\n",
      "25000/25000 [==============================] - 110s 4ms/step - loss: 0.0469 - accuracy: 0.9846\n",
      "Epoch 9/15\n",
      "25000/25000 [==============================] - 110s 4ms/step - loss: 0.0421 - accuracy: 0.9872\n",
      "Epoch 10/15\n",
      "25000/25000 [==============================] - 111s 4ms/step - loss: 0.0243 - accuracy: 0.9929\n",
      "Epoch 11/15\n",
      "25000/25000 [==============================] - 109s 4ms/step - loss: 0.0211 - accuracy: 0.9935\n",
      "Epoch 12/15\n",
      "25000/25000 [==============================] - 110s 4ms/step - loss: 0.0181 - accuracy: 0.9947\n",
      "Epoch 13/15\n",
      "25000/25000 [==============================] - 114s 5ms/step - loss: 0.0175 - accuracy: 0.9946\n",
      "Epoch 14/15\n",
      "25000/25000 [==============================] - 109s 4ms/step - loss: 0.0196 - accuracy: 0.9940\n",
      "Epoch 15/15\n",
      "25000/25000 [==============================] - 110s 4ms/step - loss: 0.0194 - accuracy: 0.9937\n"
     ]
    },
    {
     "data": {
      "text/plain": [
       "<keras.callbacks.callbacks.History at 0x2189db4e088>"
      ]
     },
     "execution_count": 33,
     "metadata": {},
     "output_type": "execute_result"
    }
   ],
   "source": [
    "model.fit(x_train, y_train,batch_size=32,epochs=15)"
   ]
  },
  {
   "cell_type": "code",
   "execution_count": 34,
   "metadata": {},
   "outputs": [
    {
     "name": "stdout",
     "output_type": "stream",
     "text": [
      "25000/25000 [==============================] - 36s 1ms/step\n"
     ]
    }
   ],
   "source": [
    "score = model.evaluate(x_test, y_test)"
   ]
  },
  {
   "cell_type": "code",
   "execution_count": 35,
   "metadata": {},
   "outputs": [
    {
     "name": "stdout",
     "output_type": "stream",
     "text": [
      "測試資料的loss 1.012217786206007\n",
      "測試資料的正確率 0.8273199796676636\n"
     ]
    }
   ],
   "source": [
    "print('測試資料的loss',score[0])\n",
    "print('測試資料的正確率',score[1])"
   ]
  },
  {
   "cell_type": "markdown",
   "metadata": {},
   "source": [
    "**3.結果儲存**"
   ]
  },
  {
   "cell_type": "code",
   "execution_count": 36,
   "metadata": {},
   "outputs": [
    {
     "data": {
      "text/plain": [
       "1918"
      ]
     },
     "execution_count": 36,
     "metadata": {},
     "output_type": "execute_result"
    }
   ],
   "source": [
    "model_json = model.to_json()\n",
    "open('imbd_model_RNN.json', 'w').write(model_json)"
   ]
  },
  {
   "cell_type": "code",
   "execution_count": 37,
   "metadata": {},
   "outputs": [],
   "source": [
    "model.save_weights('imbd_model_RNN_weights.h5')"
   ]
  },
  {
   "cell_type": "code",
   "execution_count": 38,
   "metadata": {},
   "outputs": [],
   "source": [
    "#另法-不分開存\n",
    "model.save('imbd_RNN.h5')"
   ]
  },
  {
   "cell_type": "code",
   "execution_count": null,
   "metadata": {},
   "outputs": [],
   "source": []
  }
 ],
 "metadata": {
  "kernelspec": {
   "display_name": "Python 3",
   "language": "python",
   "name": "python3"
  },
  "language_info": {
   "codemirror_mode": {
    "name": "ipython",
    "version": 3
   },
   "file_extension": ".py",
   "mimetype": "text/x-python",
   "name": "python",
   "nbconvert_exporter": "python",
   "pygments_lexer": "ipython3",
   "version": "3.7.6"
  }
 },
 "nbformat": 4,
 "nbformat_minor": 4
}
